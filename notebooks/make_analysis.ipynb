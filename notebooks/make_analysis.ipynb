{
 "cells": [
  {
   "cell_type": "code",
   "execution_count": 8,
   "metadata": {},
   "outputs": [
    {
     "name": "stdout",
     "output_type": "stream",
     "text": [
      "The autoreload extension is already loaded. To reload it, use:\n",
      "  %reload_ext autoreload\n"
     ]
    }
   ],
   "source": [
    "%matplotlib inline\n",
    "%load_ext autoreload\n",
    "%autoreload 2"
   ]
  },
  {
   "cell_type": "code",
   "execution_count": 9,
   "metadata": {},
   "outputs": [],
   "source": [
    "from glob import glob\n",
    "import sys, os\n",
    "import xarray\n",
    "import ngl\n",
    "import numpy\n",
    "from e3smplot.e3sm_utils import area_average, open_dataset, get_mapping_file\n",
    "from e3smplot.e3sm_utils import get_grid_name, can_retrieve_field, is_latlon\n",
    "from e3smplot.pyngl import compare_maps\n",
    "from e3smplot.mpl import compare_time_series, compare_zonal_means\n",
    "import os.path\n",
    "import datetime"
   ]
  },
  {
   "cell_type": "code",
   "execution_count": 15,
   "metadata": {},
   "outputs": [],
   "source": [
    "# A short, meaningful name with which to label plots and set output filenames.\n",
    "# Does not need to match the case name of the model run, but does need to match\n",
    "# one of the data_paths keys below!\n",
    "test_case_name = 'SCREAM'\n",
    "\n",
    "# Set control case names. We will compare the test_case_name against each of\n",
    "# these\n",
    "cntl_case_names = ('CERES-SYN', 'ERA5', )#'GPM') #'ne1024 Oct9', 'CERES-SYN', 'ERA5')\n",
    "\n",
    "# Period to compare; None means no limit (determined by available data, only overlapping periods)\n",
    "t1, t2 = ('2020-01-30 00:00:00', None)\n",
    "\n",
    "# Path were we can find netcdf files with output from the test/model case\n",
    "data_paths = {\n",
    "    # Raw files\n",
    "    #'Run 1' : '/global/cscratch1/sd/terai/e3sm_scratch/cori-knl/20201112.SCREAMv0dyamond2.F2010-SCREAM-HR-DYAMOND2.ne1024pg2_r0125_oRRS18to6v3.cori-knl.1536x8x16/run',\n",
    "    #'Run 2': '/global/cscratch1/sd/terai/e3sm_scratch/cori-knl/SCREAMv0.SCREAM-DY2.ne1024pg2.20201127/run',\n",
    "    # Regridded files\n",
    "    'Run 1' : '/global/cfs/cdirs/e3sm/terai/SCREAM/DYAMOND2/Output/20201112/regridded',\n",
    "    'SCREAM' : '/global/cfs/cdirs/e3sm/terai/SCREAM/DYAMOND2/Output/20201127/regridded',\n",
    "    'ne4pg2': '/global/cscratch1/sd/bhillma/e3sm_scratch/cori-knl/20201112.dyamond2.F2010-SCREAM-HR.ne4pg2_ne4pg2.cori-knl.2x42x2/run',\n",
    "    'ne1024 Oct9' : '/global/cscratch1/sd/terai/e3sm_scratch/cori-knl/master.ne1024pg2_r0125_oRRS18to6v3.F2010-SCREAM-HR-DYAMOND2.cori-knl_intel.1536x8x16.DY2_Oct9.20201009-16/run',\n",
    "    'ne256 lamlow': '/global/cscratch1/sd/bogensch/E3SM_simulations/master.ne256pg2_r0125_oRRS18to6v3.F2010-SCREAM-HR-DYAMOND2.cori-knl_intel.1024x16x8.DY2_Oct6.20201022-16.lamlow.001a/run',\n",
    "    'ne256 rrtmg' : '/global/cscratch1/sd/bhillma/scream/cases/9bfb38267.ne256pg2_r0125_oRRS18to6v3.F2010-SCREAM-HR-DYAMOND2.cori-knl_intel.192x16x8.rrtmg.20201021-0921/run',\n",
    "    'ne256 rrtmgp': '/global/cscratch1/sd/bhillma/scream/cases/9bfb38267.ne256pg2_r0125_oRRS18to6v3.F2010-SCREAM-HR-DYAMOND2.cori-knl_intel.192x16x8.rrtmgp.20201021-1722/run',\n",
    "    'ne4 rrtmg': '/global/cscratch1/sd/bhillma/e3sm_scratch/cori-knl/SMS_Ld5.ne4_ne4.FC5AV1C-L.cori-knl_intel.add-optics-outputs/run',\n",
    "    'ne4 rrtmgp': '/global/cscratch1/sd/bhillma/e3sm_scratch/cori-knl/SMS_Ld5.ne4_ne4.FC5AV1C-L.cori-knl_intel.cam-rrtmgp.add-optics-outputs/run',\n",
    "    'ne1024 Nov05': '/global/cscratch1/sd/terai/E3SM_simulations/master.ne1024pg2_r0125_oRRS18to6v3.F2010-SCREAM-HR-DYAMOND2.cori-knl_intel.1536x8x16.DY2_Nov05branch_SHOC_P3_AB_bugfix.20201105-16',\n",
    "    'CERES-SYN': '/global/cfs/cdirs/e3sm/terai/Obs_datasets/CERES',\n",
    "    'ERA5': '/global/cfs/cdirs/e3sm/bhillma/obs_datasets/ERA5',\n",
    "    'GPM': '/global/cfs/cdirs/e3sm/terai/Obs_datasets/GPM/DYAMOND2_period',\n",
    "}\n",
    "\n",
    "# List of fields we want to make map plots for\n",
    "variables = (\n",
    "    # 3D vars\n",
    "    # TODO: do something useful with these\n",
    "    #'PMID', 'T', 'CLOUD', 'EMIS', 'TOT_CLD_VISTAU',\n",
    "    #'TOT_ICLD_VISTAU', 'LIQ_ICLD_VISTAU', 'ICE_ICLD_VISTAU',\n",
    "    # \n",
    "    # 2D vars\n",
    "    'FSNTOA', 'FSNTOAC', 'FLNT', 'FLNTC', 'RESTOM',\n",
    "    'CLDTOT', 'CLDLOW', 'CLDMED', 'CLDHGH',\n",
    "    'TMCLDLIQ', 'TMCLDICE',\n",
    "    'PRECT', 'SHFLX', 'TREFHT', 'TMQ',\n",
    "    'PS', 'WINDSPD_10M', 'LHFLX', \n",
    ")\n",
    "\n",
    "# Glob strings for searching for case files. For model cases, you may want to\n",
    "# search for different history tapes (h0, h1, h2, etc). \n",
    "# For some of the obs datasets, we have separate files for different categories\n",
    "# of fields.\n",
    "glob_strings = {\n",
    "    #'ERA5': {v: '*.nc' for v in variables},\n",
    "    'ERA5': {'PRECT'      : 'ERA5_surf_2020*.nc' ,\n",
    "             'SHFLX'      : 'ERA5_surf_2020*.nc' ,\n",
    "             'LHFLX'      : 'ERA5_surf_2020*.nc' ,\n",
    "             'TREFHT'     : 'ERA5_surf_2020*.nc' ,\n",
    "             'TMQ'        : 'ERA5_surf_2020*.nc' ,\n",
    "             'WINDSPD_10M': 'ERA5_surf_2020*.nc' ,\n",
    "             'PS'         : 'ERA5_surf_2020*.nc' ,\n",
    "             'T'          : 'ERA5_TandQ_2020*.nc',},\n",
    "    'GPM': {'PRECT' : '3B-HHR.MS.MRG.3IMERG.2020*.nc',},\n",
    "    'MAC': {'TMCLDLIQ': 'maclwp_cloudlwpave_*',\n",
    "            'TOTALLWP': 'maclwp_totallwpave_*'},\n",
    "    'CERES-SYN': {v: '*_20200101-20200229.nc' for v in variables},\n",
    "    # For model-model comparisons, need to specify history tape number\n",
    "    'ne1024 Oct9': {v: '*.h1.*.nc' for v in variables},\n",
    "    'ne1024 rrtmg': {v: '*.h1.*.nc' for v in variables},\n",
    "    'ne256 rrtmg' : {v: '*.h1.*.nc' for v in variables},\n",
    "    'ne256 rrtmgp': {v: '*.h1.*.nc' for v in variables},\n",
    "    'ne256 lamlow': {v: '*.h1.*.nc' for v in variables},\n",
    "    'ne4 rrtmg': {v: '*.h0.*.nc' for v in variables},\n",
    "    'ne4 rrtmgp': {v: '*.h0.*.nc' for v in variables},\n",
    "    # Map variables to files for SCREAM-HR production run.\n",
    "    # TODO: make this more flexible\n",
    "    'Run 1': {v: '20201112.SCREAMv0dyamond2.F2010-SCREAM-HR-DYAMOND2.ne1024pg2_r0125_oRRS18to6v3.cori-knl.1536x8x16.eam.h[0-9]*.nc' for v in variables},\n",
    "    'SCREAM': {v: 'SCREAMv0.SCREAM-DY2.ne1024pg2.20201127.eam.h4.*.nc' if v == 'PMID' else 'SCREAMv0.SCREAM-DY2.ne1024pg2.20201127.eam.h[0-9]*.nc' for v in variables},\n",
    "    'ne4pg2': {v: '*.eam.h[0-9]*.nc' for v in variables},\n",
    "\n",
    "}\n",
    "\n",
    "# Override glob strings for specific cases\n",
    "glob_strings['SCREAM']['PS'] = 'SCREAMv0.SCREAM-DY2.ne1024pg2.20201127.eam.h1.*.nc'\n",
    "\n",
    "# Time offsets; hack so we can compare F-cases.\n",
    "# HOW TO USE THIS FEATURE: in the event that you want to compare a run for a\n",
    "# different time period that what we have observations for, you can use this to\n",
    "# manually adjust the time coordinate of the simulation. This is certainly a\n",
    "# hack, but allows us to use my code that attempts to find an overlapping time\n",
    "# period to compare with the correct observations. This is a list of time\n",
    "# offsets for the \"test\" (run you want to evaluate) and \"cntl\" (run or obs you\n",
    "# want to evaluate against) cases. It should be a datetime.timedelta object. As\n",
    "# an example for usage, say you meant to start a run for the DYAMOND2 period\n",
    "# (2020-01-20), but accidentally ran an F-case (0001-01-01). We want a time\n",
    "# offset in that case of 365 * 2019 + 20 days. Any entries in this list that are\n",
    "# None type will not add an offset (the default behavior).\n",
    "#time_offsets = [datetime.timedelta(days=(365*2019+20)), None]\n",
    "time_offsets = {c: None for c in [test_case_name, *cntl_case_names]}\n",
    "time_offsets['ne256 lamlow'] = datetime.timedelta(days=(365*2019+20))\n",
    "time_offsets['ne4 rrtmgp'] = datetime.timedelta(days=(365*2000))\n",
    "time_offsets['ne4 rrtmg'] = datetime.timedelta(days=(365*2000))\n",
    "\n",
    "# Where should we write the plot files?\n",
    "tmp_name = test_case_name.replace(' ', '_')\n",
    "graphics_root = f'./graphics/{tmp_name}'\n",
    "#graphics_root = f'/global/cfs/cdirs/e3sm/www/bhillma/scream/dyamond2/graphics/{tmp_name}'\n",
    "\n",
    "# Where we keep our grids and map files. Make sure this is in scratch space,\n",
    "# these things can get quite large\n",
    "mapping_root = '/global/cscratch1/sd/bhillma/grids'\n",
    "\n",
    "# Flags to control what kind of plots to make. You probably want to make them\n",
    "# all, but being able to disable for testing is useful. Some of them take quite\n",
    "# a while to make.\n",
    "do_contour_maps = True\n",
    "do_time_series = True\n",
    "do_zonal_means = True\n",
    "do_zonal_profiles = True\n",
    "do_anomalies = True\n",
    "\n",
    "# Before we do anything, make sure our plot directory exists\n",
    "os.makedirs(graphics_root, exist_ok=True)"
   ]
  },
  {
   "cell_type": "markdown",
   "metadata": {},
   "source": [
    "## Summary statistics"
   ]
  },
  {
   "cell_type": "code",
   "execution_count": 4,
   "metadata": {},
   "outputs": [],
   "source": [
    "if False:\n",
    "    from matplotlib import pyplot\n",
    "    from e3smplot.e3sm_utils import get_data, get_area_weights, area_average\n",
    "    import numpy\n",
    "    variables = ('FSNTOA', 'TMQ', 'PRECT', 'CLDTOT', 'SHFLX', 'TREFHT')\n",
    "    ref_cases = {\n",
    "        'FSNTOA': 'CERES-SYN',\n",
    "        'TMQ'   : 'ERA5',\n",
    "        'PRECT' : 'ERA5',\n",
    "        'CLDTOT': 'CERES-SYN',\n",
    "        'SHFLX' : 'ERA5',\n",
    "        'TREFHT': 'ERA5',\n",
    "    }\n",
    "    colors = {\n",
    "        'Run 2'    : 'tab:blue',\n",
    "        'Run 1'    : 'tab:purple',\n",
    "        'ne4pg2'   : 'tab:green',\n",
    "        'CERES-SYN': 'black',\n",
    "        'ERA5'     : 'black',\n",
    "        'Reference': 'black',\n",
    "    }\n",
    "    units = {\n",
    "        'FSNTOA': 'W/m$^2$',\n",
    "        'TMQ'   : 'mm',\n",
    "        'PRECT' : 'mm/d',\n",
    "        'CLDTOT': '%',\n",
    "        'SHFLX' : 'W/m$^2$',\n",
    "        'TREFHT': 'K',\n",
    "    }\n",
    "    test_cases = ('Run 2', 'Run 1')#'ne4pg2')\n",
    "    # Get time range to plot over\n",
    "    v = variables[0]\n",
    "    files = [f for f in glob(f'{data_paths[test_case_name]}/{glob_strings[test_case_name][v]}') if can_retrieve_field(f, v)]\n",
    "    with open_dataset(files, chunks={'time': 1}) as ds:\n",
    "        t1 = str(min(ds.time.values))\n",
    "        t2 = str(max(ds.time.values))\n",
    "\n",
    "    print(f'Computing summary statistics for time period {t1:s} to {t2:s}')\n",
    "\n",
    "    labeled_cases = []\n",
    "    figure, axes = pyplot.subplots(1, len(variables), figsize=(10, 5))\n",
    "    for ivar, v in enumerate(variables):\n",
    "        ax = figure.add_axes(axes[ivar])\n",
    "        cases = (ref_cases[v], *test_cases)\n",
    "        for icase, case in enumerate(cases):\n",
    "            print(case, v)\n",
    "\n",
    "            # Find files\n",
    "            files = [f for f in glob(f'{data_paths[case]}/{glob_strings[case][v]}') if field_in_dataset(f, v)]\n",
    "\n",
    "            # Read data\n",
    "            with open_dataset(files, chunks={'time': 1}) as ds:\n",
    "\n",
    "                # grab data\n",
    "                da = get_data(ds, v)\n",
    "                wt = get_area_weights(ds)\n",
    "\n",
    "                # Subset data in time\n",
    "                da = da.sel(time=slice(t1, t2))\n",
    "                if 'time' in wt.dims: wt = wt.sel(time=slice(t1, t2))\n",
    "\n",
    "                # Compute a time-series of area-means\n",
    "                a = area_average(da, wt, dims=[d for d in da.dims if d != 'time'])\n",
    "\n",
    "                # Compute daily averages\n",
    "                a = a.resample(time='1D').mean(keep_attrs=True)           \n",
    "\n",
    "                # Compute mean for control case; used to compute relative anomalies from reference means\n",
    "                a_mean = a.mean().values\n",
    "                if icase == 0: a_cntl = a_mean\n",
    "\n",
    "                # Compute anomaly and maybe scale\n",
    "                #yvals = (a - a_cntl).values #/ abs(a_cntl)).values\n",
    "                yvals = a.values\n",
    "\n",
    "                # Define x-axis location for each variable/case. Optionally add some jitter to\n",
    "                # the x-axis locations to scatter points horizontally a little so that we can\n",
    "                # see them all without overlapping too much.\n",
    "                #xvals = ((ivar + 1) * numpy.ones(len(a)) + (icase) * 0.1)\n",
    "                dx = 0.1 #1.0 / len(variables)\n",
    "                #plot_size = dx * (len(cases)-1)\n",
    "                #plot_start = -(plot_size) / 2.0\n",
    "                #plot_end = plot_start + plot_size\n",
    "                xloc = icase * dx #plot_start + (icase * dx)\n",
    "                xvals = numpy.random.normal(loc=xloc, size=len(a), scale=dx/10)\n",
    "\n",
    "                # Get labels; use \"Reference\" for the control cases\n",
    "                if icase == 0:\n",
    "                    label = 'Reference'\n",
    "                else:\n",
    "                    label = case\n",
    "                # Make sure we only label each case once\n",
    "                if label in labeled_cases:\n",
    "                    label=None\n",
    "                else:\n",
    "                    labeled_cases.append(label)\n",
    "\n",
    "                # Make scatter plot of relative anomalies\n",
    "                pl1 = ax.scatter(xvals, yvals, marker='.', alpha=0.5, color=colors[case], label=label)\n",
    "                #pl2 = ax2.scatter(xvals, yvals, marker='.', alpha=0.5, color=colors[case], label=None)\n",
    "\n",
    "                # Plot mean as a small bar\n",
    "                y = numpy.mean(yvals)\n",
    "                pl2  = ax.plot([xloc - dx/2.0, xloc + dx/2.0], [y, y], color=colors[case], label=None)\n",
    "                # Label means for control case\n",
    "                #if icase == 0: \n",
    "                #    ax.text(xloc - dx,  a_cntl, f'{a_cntl:.1f}', ha='right', va='bottom')\n",
    "                #    #ax.text(xvals[0] - dx, -0.001, f'{da.attrs[\"units\"]:^10s}', ha='right', va='top')\n",
    "\n",
    "        if v not in units.keys(): \n",
    "            print(f'adding unit {a.units} for {v}')\n",
    "            units[v] = a.units\n",
    "\n",
    "        #ax.set_ylabel('Anomaly (scaled)')\n",
    "        #ax.set_ylim([-max(abs(numpy.array(ax.get_ylim()))), max(abs(numpy.array(ax.get_ylim())))])\n",
    "        #xticks = [i + dx * (len(test_cases)) / 2.0 for i in range(len(variables))]\n",
    "        #ax.set_xticks(xticks)\n",
    "        #ax.set_xlim([-1, 1])\n",
    "        ax.xaxis.set_ticks([])\n",
    "        #ax.set_xticklabels([f'{v}\\n({units[v]} x{scale_factors[v]})' \n",
    "        #                    if v in scale_factors.keys() \n",
    "        #                    else f'{v}\\n({units[v]})' for v in variables])\n",
    "        #ax.grid(axis='both', color='0.2', alpha=0.5, linestyle='dashed')\n",
    "        #ax.legend(loc='best')\n",
    "        ax.spines['left'].set_position('center')\n",
    "        ax.spines['right'].set_color('none')\n",
    "        #ax.spines['bottom'].set_position('center')\n",
    "        ax.spines['top'].set_color('none')\n",
    "        #ax.spines['bottom'].set_position(['outward', 0])\n",
    "        ax.spines['bottom'].set_color('none')\n",
    "        ax.xaxis.set_ticks_position('bottom')\n",
    "        ax.yaxis.set_ticks_position('left')\n",
    "        ax.set_xlabel(f'{v} ({units[v]})')"
   ]
  },
  {
   "cell_type": "markdown",
   "metadata": {},
   "source": [
    "## Anomalies"
   ]
  },
  {
   "cell_type": "code",
   "execution_count": 5,
   "metadata": {},
   "outputs": [
    {
     "name": "stdout",
     "output_type": "stream",
     "text": [
      "Computing anomalies for time period 2020-01-30 00:00:00 to 2020-03-01T23:45:00.000000000\n",
      "CERES-SYN FSNTOA\n",
      "SCREAM FSNTOA\n",
      "CERES-SYN FLNT\n",
      "SCREAM FLNT\n",
      "CERES-SYN RESTOM\n"
     ]
    },
    {
     "name": "stderr",
     "output_type": "stream",
     "text": [
      "/global/u1/b/bhillma/codes/scream/analysis/e3smplot/e3smplot/e3sm_utils.py:225: UserWarning: Using FSNTOA instead of FSNT\n",
      "  warnings.warn('Using FSNTOA instead of FSNT')\n"
     ]
    },
    {
     "name": "stdout",
     "output_type": "stream",
     "text": [
      "SCREAM RESTOM\n"
     ]
    },
    {
     "name": "stderr",
     "output_type": "stream",
     "text": [
      "/global/u1/b/bhillma/codes/scream/analysis/e3smplot/e3smplot/e3sm_utils.py:225: UserWarning: Using FSNTOA instead of FSNT\n",
      "  warnings.warn('Using FSNTOA instead of FSNT')\n"
     ]
    },
    {
     "name": "stdout",
     "output_type": "stream",
     "text": [
      "ERA5 TMQ\n",
      "SCREAM TMQ\n",
      "ERA5 PRECT\n",
      "SCREAM PRECT\n",
      "CERES-SYN CLDTOT\n",
      "SCREAM CLDTOT\n",
      "ERA5 SHFLX\n",
      "SCREAM SHFLX\n",
      "ERA5 LHFLX\n",
      "SCREAM LHFLX\n",
      "ERA5 TREFHT\n",
      "SCREAM TREFHT\n"
     ]
    },
    {
     "data": {
      "image/png": "[encoded data removed]",
      "text/plain": [
       "<Figure size 720x360 with 1 Axes>"
      ]
     },
     "metadata": {
      "needs_background": "light"
     },
     "output_type": "display_data"
    }
   ],
   "source": [
    "from matplotlib import pyplot\n",
    "from e3smplot.e3sm_utils import get_data, get_area_weights, area_average\n",
    "import numpy\n",
    "summary_variables = ('FSNTOA', 'FLNT', 'RESTOM', 'TMQ', 'PRECT', 'CLDTOT', 'SHFLX', 'LHFLX', 'TREFHT')\n",
    "ref_cases = {\n",
    "    'FSNTOA': 'CERES-SYN',\n",
    "    'FLNT'  : 'CERES-SYN',\n",
    "    'RESTOM': 'CERES-SYN',\n",
    "    'TMQ'   : 'ERA5',\n",
    "    'PRECT' : 'ERA5',\n",
    "    'CLDTOT': 'CERES-SYN',\n",
    "    'SHFLX' : 'ERA5',\n",
    "    'LHFLX' : 'ERA5',\n",
    "    'TREFHT': 'ERA5',\n",
    "}\n",
    "colors = {\n",
    "    'SCREAM'    : 'tab:blue',\n",
    "    'Run 1'    : 'tab:purple',\n",
    "    'ne4pg2'   : 'tab:green',\n",
    "    'CERES-SYN': 'black',\n",
    "    'ERA5'     : 'black',\n",
    "    'Reference': 'black',\n",
    "}\n",
    "scale_factors = {\n",
    "    'TMQ': 10,\n",
    "    'PRECT': 10,\n",
    "    'TREFHT': 10,\n",
    "}\n",
    "units = {\n",
    "    'FSNTOA': 'W/m$^2$',\n",
    "    'FLNT'  : 'W/m$^2$',\n",
    "    'RESTOM': 'W/m$^2$',\n",
    "    'TMQ'   : 'mm',\n",
    "    'PRECT' : 'mm/d',\n",
    "    'CLDTOT': '%',\n",
    "    'SHFLX' : 'W/m$^2$',\n",
    "    'LHFLX' : 'W/m$^2$',\n",
    "    'TREFHT': 'K',\n",
    "}\n",
    "test_cases = ('SCREAM',)#'ne4pg2')\n",
    "# Get time range to plot over\n",
    "v = summary_variables[0]\n",
    "files = [f for f in glob(f'{data_paths[test_case_name]}/{glob_strings[test_case_name][v]}') if can_retrieve_field(f, v)]\n",
    "with open_dataset(files, chunks={'time': 1}) as ds:\n",
    "    if t1 is None: t1 = str(min(ds.time.values))\n",
    "    if t2 is None: t2 = str(max(ds.time.values))\n",
    "    \n",
    "print(f'Computing anomalies for time period {t1:s} to {t2:s}')\n",
    "\n",
    "labeled_cases = []\n",
    "figure, ax = pyplot.subplots(1,1, figsize=(10, 5))\n",
    "for ivar, v in enumerate(summary_variables):\n",
    "    for icase, case in enumerate((ref_cases[v], *test_cases)):\n",
    "        print(case, v)\n",
    "\n",
    "        # Find files\n",
    "        files = [f for f in glob(f'{data_paths[case]}/{glob_strings[case][v]}') if can_retrieve_field(f, v)]\n",
    "        \n",
    "        # Read data\n",
    "        with open_dataset(files, chunks={'time': 1}) as ds:\n",
    "            \n",
    "            # grab data\n",
    "            da = get_data(ds, v)\n",
    "            wt = get_area_weights(ds)\n",
    "            \n",
    "            # Subset data in time\n",
    "            da = da.sel(time=slice(t1, t2))\n",
    "            if 'time' in wt.dims: wt = wt.sel(time=slice(t1, t2))\n",
    "            \n",
    "            # Compute a time-series of area-means\n",
    "            a = area_average(da, wt, dims=[d for d in da.dims if d != 'time'])\n",
    "                    \n",
    "            # Compute daily averages\n",
    "            a = a.resample(time='1D').mean(keep_attrs=True)           \n",
    "    \n",
    "            # Scale by scale factor to put all values on same yaxis scale\n",
    "            #if v in scale_factors.keys(): a.values = scale_factors[v] * a.values\n",
    "            \n",
    "            # Compute mean for control case; used to compute relative anomalies from reference means\n",
    "            a_mean = a.mean().values\n",
    "            if icase == 0: a_cntl = a_mean\n",
    "                \n",
    "            # Compute anomaly and maybe scale\n",
    "            yvals = (a - a_cntl).values #/ abs(a_cntl)).values\n",
    "            if v in scale_factors.keys(): yvals = [scale_factors[v] * y for y in yvals]\n",
    "            \n",
    "            # Define x-axis location for each variable/case. Optionally add some jitter to\n",
    "            # the x-axis locations to scatter points horizontally a little so that we can\n",
    "            # see them all without overlapping too much.\n",
    "            #xvals = ((ivar + 1) * numpy.ones(len(a)) + (icase) * 0.1)\n",
    "            dx = 1.0 / len(variables)\n",
    "            xloc = ivar + (icase * dx)\n",
    "            xvals = numpy.random.normal(loc=xloc, size=len(a), scale=dx/10)\n",
    "\n",
    "            # Get labels; use \"Reference\" for the control cases\n",
    "            if icase == 0:\n",
    "                label = 'Reference'\n",
    "            else:\n",
    "                label = case\n",
    "            # Make sure we only label each case once\n",
    "            if label in labeled_cases:\n",
    "                label=None\n",
    "            else:\n",
    "                labeled_cases.append(label)\n",
    "            \n",
    "            # Make scatter plot of relative anomalies\n",
    "            pl1 = ax.scatter(xvals, yvals, marker='.', alpha=0.5, color=colors[case], label=label)\n",
    "            #pl2 = ax2.scatter(xvals, yvals, marker='.', alpha=0.5, color=colors[case], label=None)\n",
    "            \n",
    "            # Plot mean as a small bar\n",
    "            y = numpy.mean(yvals)\n",
    "            pl2  = ax.plot([xloc - dx/2.0, xloc + dx/2.0], [y, y], color=colors[case], label=None)\n",
    "            # Label means for control case\n",
    "            if icase == 0: \n",
    "                ax.text(xvals[0] - dx,  0.001, f'{a_cntl:.1f}', ha='right', va='bottom')\n",
    "                #ax.text(xvals[0] - dx, -0.001, f'{da.attrs[\"units\"]:^10s}', ha='right', va='top')\n",
    "\n",
    "    if v not in units.keys(): \n",
    "        print(f'adding unit {a.units} for {v}')\n",
    "        units[v] = a.units\n",
    "    \n",
    "ax.set_ylabel('Anomaly (scaled)')\n",
    "ax.set_ylim([-max(abs(numpy.array(ax.get_ylim()))), max(abs(numpy.array(ax.get_ylim())))])\n",
    "xticks = [i + dx * (len(test_cases)) / 2.0 for i in range(len(variables))]\n",
    "ax.set_xticks(xticks)\n",
    "ax.set_xlim([xticks[0]-1, xticks[-1]+1])\n",
    "ax.set_xticklabels([f'{v}\\n({units[v]} x{scale_factors[v]})' \n",
    "                    if v in scale_factors.keys() \n",
    "                    else f'{v}\\n({units[v]})' for v in variables])\n",
    "ax.grid(axis='both', color='0.2', alpha=0.5, linestyle='dashed')\n",
    "ax.legend(loc='best')\n",
    "figure.savefig(f'{graphics_root}/scream_dyamond2_anomalies.png', bbox_inches='tight', dpi=800)"
   ]
  },
  {
   "cell_type": "markdown",
   "metadata": {},
   "source": [
    "## Contour maps"
   ]
  },
  {
   "cell_type": "code",
   "execution_count": 11,
   "metadata": {},
   "outputs": [
    {
     "name": "stdout",
     "output_type": "stream",
     "text": [
      "Making SCREAM vs CERES-SYN contour maps for WINDSPD_10M...\n",
      "  Could not find WINDSPD_10M in CERES-SYN files; skipping.\n",
      "Making SCREAM vs ERA5 contour maps for WINDSPD_10M...\n",
      "Open datasets...\n",
      "Subset consistent time periods...\n",
      "Comparing period 2020-01-30 00:00:00 to 2020-02-29T21:00:00.000000000\n",
      "Compute time averages...\n",
      "Select data...\n",
      "Compute differences...\n",
      "Compute statistics...\n",
      "Find good clevels for plotting...\n",
      "Make plots...\n",
      "Closing plot workspace and writing figures...\n",
      "Trimming whitespace from figure...\n",
      "Done making maps.\n"
     ]
    }
   ],
   "source": [
    "if do_contour_maps:\n",
    "    for vname in variables:\n",
    "        # For map plots we only compare two at a time so we can look at differences\n",
    "        for cntl_case_name in cntl_case_names:\n",
    "            \n",
    "            print(f'Making {test_case_name} vs {cntl_case_name} contour maps for {vname}...')\n",
    "            \n",
    "            # Find files and make sure we can retrieve variable\n",
    "            if vname not in glob_strings[test_case_name] or vname not in glob_strings[cntl_case_name]: continue\n",
    "            test_files = sorted([f for f in glob(f'{data_paths[test_case_name]}/{glob_strings[test_case_name][vname]}')\n",
    "                                 if can_retrieve_field(f, vname)])\n",
    "            cntl_files = sorted([f for f in glob(f'{data_paths[cntl_case_name]}/{glob_strings[cntl_case_name][vname]}')\n",
    "                                 if can_retrieve_field(f, vname)])\n",
    "            if len(test_files) == 0:\n",
    "                print(f'  Could not find {vname} in {test_case_name} files; skipping.')\n",
    "                continue\n",
    "            elif len(cntl_files) == 0:\n",
    "                print(f'  Could not find {vname} in {cntl_case_name} files; skipping.')\n",
    "                continue\n",
    "\n",
    "            # Figure out what mapping files we need based on test and obs data\n",
    "            if get_grid_name(test_files[0]) != get_grid_name(cntl_files[0]):\n",
    "                map_file = get_mapping_file(test_files[0], cntl_files[0], mapping_root)\n",
    "            else:\n",
    "                map_file = None\n",
    "            \n",
    "            # Compare maps\n",
    "            figname = f'{graphics_root}/maps/{vname}_{test_case_name.replace(\" \", \"_\")}_vs_{cntl_case_name.replace(\" \", \"_\")}_maps.png'\n",
    "            os.makedirs(os.path.dirname(figname), exist_ok=True)\n",
    "            compare_maps.main(\n",
    "                test_files, cntl_files, vname, figname,\n",
    "                test_name=test_case_name, cntl_name=cntl_case_name,\n",
    "                time_offsets=(time_offsets[test_case_name], time_offsets[cntl_case_name]),\n",
    "                map_file=map_file,\n",
    "                t1=t1, verbose=True,\n",
    "                lbAutoManage=False, \n",
    "                lbTitleFontHeightF=0.02, \n",
    "                lbLabelFontHeightF=0.02,\n",
    "            )\n",
    "    print('Done making maps.'); sys.stdout.flush()"
   ]
  },
  {
   "cell_type": "markdown",
   "metadata": {},
   "source": [
    "## Zonal means"
   ]
  },
  {
   "cell_type": "code",
   "execution_count": 12,
   "metadata": {},
   "outputs": [
    {
     "name": "stdout",
     "output_type": "stream",
     "text": [
      "Making zonal mean plots for WINDSPD_10M...\n",
      "Load data...\n",
      "Get overlapping time range...\n",
      "Comparing period 2020-01-30 00:00:00 to 2020-02-29T21:00:00.000000000\n",
      "Compute time averages...\n",
      "Select data...\n",
      "Force dask to execute and load into memory...\n",
      "Remap to lat/lon grid if needed...\n",
      "Compute zonal means...\n",
      "Make line plots of zonal means...\n",
      "Trimming whitespace from figure...\n"
     ]
    },
    {
     "data": {
      "image/png": "[encoded data removed]",
      "text/plain": [
       "<Figure size 432x288 with 1 Axes>"
      ]
     },
     "metadata": {
      "needs_background": "light"
     },
     "output_type": "display_data"
    }
   ],
   "source": [
    "if do_zonal_means:\n",
    "    for vname in variables:\n",
    "        # Find files and make sure we can retrieve variable\n",
    "        files, names = zip(*[\n",
    "            (sorted(glob(f'{data_paths[n]}/{glob_strings[n][vname]}')), n)\n",
    "            for n in [test_case_name, *cntl_case_names]\n",
    "            if vname in glob_strings[n]\n",
    "        ])\n",
    "        # Only files we can find variable name in\n",
    "        #files, names = zip(*[(f,n) if can_retrieve_field(f, vname) else (None, None) \n",
    "        #                     for (f,n) in zip(files, names)])\n",
    "        ffiles = []\n",
    "        nnames = []\n",
    "        for file_list, name in zip(files, names):\n",
    "            files_with_var = [f for f in file_list if can_retrieve_field(f, vname)]\n",
    "            if len(files_with_var) > 0:\n",
    "                ffiles.append(files_with_var)\n",
    "                nnames.append(name)\n",
    "        files, names = ffiles, nnames\n",
    "        if len(files) < 2: continue\n",
    "        \n",
    "        # Figure out what mapping files we need based on test and obs data\n",
    "        default_grid_file = sorted(glob(f'{data_paths[\"CERES-SYN\"]}/*.nc'))[0]\n",
    "        maps = [get_mapping_file(f[0], default_grid_file, mapping_root)\n",
    "                if not is_latlon(f[0]) else None for f in files]\n",
    "        \n",
    "        # Make zonal mean plots\n",
    "        print(f'Making zonal mean plots for {vname}...')\n",
    "        figname = f'{graphics_root}/zonal/{vname}_{test_case_name.replace(\" \", \"_\")}_vs_all_zonal.png'\n",
    "        os.makedirs(os.path.dirname(figname), exist_ok=True)\n",
    "        compare_zonal_means.main(\n",
    "            files, names, vname, figname,\n",
    "            maps=maps, time_offsets=[time_offsets[n] for n in names],\n",
    "            t1=t1, verbose=True,\n",
    "            dpi=800,\n",
    "        )"
   ]
  },
  {
   "cell_type": "markdown",
   "metadata": {},
   "source": [
    "## Time series of global means"
   ]
  },
  {
   "cell_type": "code",
   "execution_count": 13,
   "metadata": {},
   "outputs": [
    {
     "name": "stdout",
     "output_type": "stream",
     "text": [
      "Making time series for WINDSPD_10M...\n",
      "Load datasets\n",
      "Subset time\n",
      "Comparing period 2020-01-30 00:00:00 to 2020-02-29T21:00:00.000000000\n",
      "Select data\n",
      "Compute global statistics\n",
      "Make plots\n",
      "Clean up\n"
     ]
    }
   ],
   "source": [
    "if do_time_series:\n",
    "    for vname in variables:\n",
    "        # Find files and make sure we can retrieve variable\n",
    "        files, names = zip(*[\n",
    "            (sorted(glob(f'{data_paths[n]}/{glob_strings[n][vname]}')), n)\n",
    "            for n in [test_case_name, *cntl_case_names]\n",
    "            if vname in glob_strings[n]\n",
    "        ])\n",
    "        # Only files we can find variable name in\n",
    "        #files, names = zip(*[(f,n) for (f,n) in zip(files, names) if  can_retrieve_field(f, vname)])\n",
    "        ffiles = []\n",
    "        nnames = []\n",
    "        for file_list, name in zip(files, names):\n",
    "            files_with_var = [f for f in file_list if can_retrieve_field(f, vname)]\n",
    "            if len(files_with_var) > 0:\n",
    "                ffiles.append(files_with_var)\n",
    "                nnames.append(name)\n",
    "        files, names = ffiles, nnames\n",
    "        if len(files) == 0: continue\n",
    "\n",
    "        # Make time series plots\n",
    "        print(f'Making time series for {vname}...')\n",
    "        figname = f'{graphics_root}/time_series/{vname}_{test_case_name.replace(\" \", \"_\")}_vs_all_timeseries.png'\n",
    "        os.makedirs(os.path.dirname(figname), exist_ok=True)\n",
    "        #if min([get_data(open_dataset(f), vname).min().values for f in files]) > 0: kwargs['ymin'] = 0\n",
    "        compare_time_series.main(\n",
    "            files, vname, figname, names, time_offsets=[time_offsets[n] for n in names], \n",
    "            t1=t1, verbose=True,\n",
    "            dpi=800\n",
    "        )"
   ]
  },
  {
   "cell_type": "code",
   "execution_count": 14,
   "metadata": {},
   "outputs": [
    {
     "name": "stdout",
     "output_type": "stream",
     "text": [
      "foo\n"
     ]
    }
   ],
   "source": [
    "print('foo')"
   ]
  },
  {
   "cell_type": "code",
   "execution_count": 47,
   "metadata": {},
   "outputs": [
    {
     "name": "stdout",
     "output_type": "stream",
     "text": [
      "[['/global/cfs/cdirs/e3sm/bhillma/obs_datasets/ERA5/ERA5_TandQ_20200101_20200131.nc', '/global/cfs/cdirs/e3sm/bhillma/obs_datasets/ERA5/ERA5_TandQ_20200201_20200229.nc']]\n",
      "Making zonal mean profile plots for T...\n",
      "Load data...\n",
      "Get overlapping time range...\n",
      "Select data...\n",
      "Compute time averages...\n",
      "Remap to lat/lon grid if needed...\n",
      "Compute zonal means...\n",
      "Make pcolor plots of zonal means...\n"
     ]
    },
    {
     "name": "stderr",
     "output_type": "stream",
     "text": [
      "/global/u1/b/bhillma/codes/scream/analysis/e3smplot/e3smplot/mpl/compare_zonal_profiles.py:32: MatplotlibDeprecationWarning: shading='flat' when X and Y have the same dimensions as C is deprecated since 3.3.  Either specify the corners of the quadrilaterals with X and Y, or pass shading='auto', 'nearest' or 'gouraud', or set rcParams['pcolor.shading'].  This will become an error two minor releases later.\n",
      "  pl = ax.pcolormesh(lat, pressure[::-1], data.transpose(*dims)[::-1,:], **kwargs)\n"
     ]
    },
    {
     "name": "stdout",
     "output_type": "stream",
     "text": [
      "Trimming whitespace from figure...\n"
     ]
    },
    {
     "data": {
      "image/png": "[encoded data removed]",
      "text/plain": [
       "<Figure size 432x288 with 2 Axes>"
      ]
     },
     "metadata": {
      "needs_background": "light"
     },
     "output_type": "display_data"
    }
   ],
   "source": [
    "from e3smplot.mpl import compare_zonal_profiles\n",
    "from e3smplot.e3sm_utils import get_data\n",
    "cases = ('ERA5',)\n",
    "if do_zonal_profiles:\n",
    "    for vname in ('T',): #variables:\n",
    "        # Find files and make sure we can retrieve variable\n",
    "        files, names = zip(*[\n",
    "            (sorted(glob(f'{data_paths[n]}/{glob_strings[n][vname]}')), n)\n",
    "            for n in cases\n",
    "            if vname in glob_strings[n]\n",
    "        ])\n",
    "        # Only files we can find variable name in\n",
    "        #files, names = zip(*[(f,n) if can_retrieve_field(f, vname) else (None, None) \n",
    "        #                     for (f,n) in zip(files, names)])\n",
    "        ffiles = []\n",
    "        nnames = []\n",
    "        for file_list, name in zip(files, names):\n",
    "            files_with_var = [f for f in file_list if can_retrieve_field(f, vname)]\n",
    "            if len(files_with_var) > 0:\n",
    "                ffiles.append(files_with_var)\n",
    "                nnames.append(name)\n",
    "        files, names = ffiles, nnames\n",
    "        print(files)\n",
    "        #if len(files) < 2: continue\n",
    "        \n",
    "        # Figure out what mapping files we need based on test and obs data\n",
    "        default_grid_file = sorted(glob(f'{data_paths[\"CERES-SYN\"]}/*.nc'))[0]\n",
    "        maps = [get_mapping_file(f[0], default_grid_file, mapping_root)\n",
    "                if not is_latlon(f[0]) else None for f in files]\n",
    "        \n",
    "        # Make zonal mean plots\n",
    "        print(f'Making zonal mean profile plots for {vname}...')\n",
    "        figname = f'{graphics_root}/zonal/{vname}_{test_case_name.replace(\" \", \"_\")}_vs_all_zonal.png'\n",
    "        os.makedirs(os.path.dirname(figname), exist_ok=True)\n",
    "        compare_zonal_profiles.main(\n",
    "            files, names, vname, figname,\n",
    "            maps=maps, time_offsets=[time_offsets[n] for n in names],\n",
    "            t1=t1, verbose=True,\n",
    "            dpi=800,\n",
    "        )"
   ]
  },
  {
   "cell_type": "code",
   "execution_count": 5,
   "metadata": {},
   "outputs": [],
   "source": [
    "levels = (200, 300, 400, 500, 600, 700, 800, 850, 925, 1000)"
   ]
  },
  {
   "cell_type": "code",
   "execution_count": 6,
   "metadata": {},
   "outputs": [],
   "source": [
    "files = sorted(glob(f'{data_paths[test_case_name]}/{glob_strings[test_case_name][\"PMID\"]}'))\n",
    "pressure_files = [f for f in files if can_retrieve_field(f, 'PMID')]"
   ]
  },
  {
   "cell_type": "code",
   "execution_count": 7,
   "metadata": {},
   "outputs": [],
   "source": [
    "files = sorted(glob(f'{data_paths[test_case_name]}/{glob_strings[test_case_name][\"T\"]}'))\n",
    "data_files = [f for f in files if can_retrieve_field(f, 'T')]"
   ]
  },
  {
   "cell_type": "code",
   "execution_count": 8,
   "metadata": {},
   "outputs": [],
   "source": [
    "ds_t = xarray.open_mfdataset(data_files, drop_variables=('P3_input_dim', 'P3_output_dim'), chunks={'time': 1, 'lev': 1})"
   ]
  },
  {
   "cell_type": "code",
   "execution_count": 9,
   "metadata": {},
   "outputs": [],
   "source": [
    "ds_p = xarray.open_mfdataset(pressure_files, drop_variables=('P3_input_dim', 'P3_output_dim'), chunks={'time': 1, 'lev': 1})"
   ]
  },
  {
   "cell_type": "code",
   "execution_count": 10,
   "metadata": {},
   "outputs": [],
   "source": [
    "from e3smplot.e3sm_utils import get_data\n",
    "t = get_data(ds_t, 'T')\n",
    "p = get_data(ds_p, 'PMID')"
   ]
  },
  {
   "cell_type": "code",
   "execution_count": 11,
   "metadata": {},
   "outputs": [],
   "source": [
    "import dask"
   ]
  },
  {
   "cell_type": "code",
   "execution_count": 23,
   "metadata": {},
   "outputs": [],
   "source": [
    "pressure_levels = xarray.DataArray(\n",
    "    numpy.array(levels), dims=('level'), \n",
    "    attrs={'long_name': 'Pressure level', 'units': 'hPa'}\n",
    ")\n",
    "t_int = xarray.DataArray(\n",
    "    dask.array.from_array(\n",
    "        numpy.nan*numpy.ones([t.time.size, len(levels), t.lat.size, t.lon.size]), \n",
    "        chunks=(1, 1, t.lat.size, t.lon.size)\n",
    "    ),\n",
    "    dims=('time', 'level', 'lat', 'lon'),\n",
    "    coords={'time': t.time, 'level': pressure_levels, 'lat': t.lat, 'lon': t.lon}\n",
    ")"
   ]
  },
  {
   "cell_type": "code",
   "execution_count": 24,
   "metadata": {},
   "outputs": [],
   "source": [
    "*__, pressure_levels_b = xarray.broadcast(t_int, pressure_levels)"
   ]
  },
  {
   "cell_type": "code",
   "execution_count": 14,
   "metadata": {},
   "outputs": [],
   "source": [
    "pressure_levels_b = pressure_levels_b.chunk({'time': 1, 'level': 1})"
   ]
  },
  {
   "cell_type": "code",
   "execution_count": null,
   "metadata": {},
   "outputs": [],
   "source": []
  },
  {
   "cell_type": "code",
   "execution_count": 15,
   "metadata": {},
   "outputs": [],
   "source": [
    "c1 = dask.array.meshgrid(*[getattr(p, c).data if c != 'time' else numpy.arange(len(p.time)) for c in p.dims], indexing='ij')\n",
    "c2 = dask.array.meshgrid(*[getattr(pressure_levels_b, c).data if c != 'time' else numpy.arange(len(pressure_levels_b.time)) for c in pressure_levels_b.dims], indexing='ij')"
   ]
  },
  {
   "cell_type": "code",
   "execution_count": 16,
   "metadata": {},
   "outputs": [
    {
     "data": {
      "text/html": [
       "<table>\n",
       "<tr>\n",
       "<td>\n",
       "<table>\n",
       "  <thead>\n",
       "    <tr><td> </td><th> Array </th><th> Chunk </th></tr>\n",
       "  </thead>\n",
       "  <tbody>\n",
       "    <tr><th> Bytes </th><td> 44.02 GB </td> <td> 44.02 GB </td></tr>\n",
       "    <tr><th> Shape </th><td> (328, 128, 256, 512) </td> <td> (328, 128, 256, 512) </td></tr>\n",
       "    <tr><th> Count </th><td> 3 Tasks </td><td> 1 Chunks </td></tr>\n",
       "    <tr><th> Type </th><td> int64 </td><td> numpy.ndarray </td></tr>\n",
       "  </tbody>\n",
       "</table>\n",
       "</td>\n",
       "<td>\n",
       "<svg width=\"487\" height=\"135\" style=\"stroke:rgb(0,0,0);stroke-width:1\" >\n",
       "\n",
       "  <!-- Horizontal lines -->\n",
       "  <line x1=\"0\" y1=\"0\" x2=\"76\" y2=\"0\" style=\"stroke-width:2\" />\n",
       "  <line x1=\"0\" y1=\"25\" x2=\"76\" y2=\"25\" style=\"stroke-width:2\" />\n",
       "\n",
       "  <!-- Vertical lines -->\n",
       "  <line x1=\"0\" y1=\"0\" x2=\"0\" y2=\"25\" style=\"stroke-width:2\" />\n",
       "  <line x1=\"76\" y1=\"0\" x2=\"76\" y2=\"25\" style=\"stroke-width:2\" />\n",
       "\n",
       "  <!-- Colored Rectangle -->\n",
       "  <polygon points=\"0.0,0.0 76.875,0.0 76.875,25.412616514582485 0.0,25.412616514582485\" style=\"fill:#ECB172A0;stroke-width:0\"/>\n",
       "\n",
       "  <!-- Text -->\n",
       "  <text x=\"38.437500\" y=\"45.412617\" font-size=\"1.0rem\" font-weight=\"100\" text-anchor=\"middle\" >328</text>\n",
       "  <text x=\"96.875000\" y=\"12.706308\" font-size=\"1.0rem\" font-weight=\"100\" text-anchor=\"middle\" transform=\"rotate(0,96.875000,12.706308)\">1</text>\n",
       "\n",
       "\n",
       "  <!-- Horizontal lines -->\n",
       "  <line x1=\"146\" y1=\"0\" x2=\"171\" y2=\"25\" style=\"stroke-width:2\" />\n",
       "  <line x1=\"146\" y1=\"60\" x2=\"171\" y2=\"85\" style=\"stroke-width:2\" />\n",
       "\n",
       "  <!-- Vertical lines -->\n",
       "  <line x1=\"146\" y1=\"0\" x2=\"146\" y2=\"60\" style=\"stroke-width:2\" />\n",
       "  <line x1=\"171\" y1=\"25\" x2=\"171\" y2=\"85\" style=\"stroke-width:2\" />\n",
       "\n",
       "  <!-- Colored Rectangle -->\n",
       "  <polygon points=\"146.0,0.0 171.23458560109532,25.23458560109531 171.23458560109532,85.23458560109532 146.0,60.0\" style=\"fill:#ECB172A0;stroke-width:0\"/>\n",
       "\n",
       "  <!-- Horizontal lines -->\n",
       "  <line x1=\"146\" y1=\"0\" x2=\"266\" y2=\"0\" style=\"stroke-width:2\" />\n",
       "  <line x1=\"171\" y1=\"25\" x2=\"291\" y2=\"25\" style=\"stroke-width:2\" />\n",
       "\n",
       "  <!-- Vertical lines -->\n",
       "  <line x1=\"146\" y1=\"0\" x2=\"171\" y2=\"25\" style=\"stroke-width:2\" />\n",
       "  <line x1=\"266\" y1=\"0\" x2=\"291\" y2=\"25\" style=\"stroke-width:2\" />\n",
       "\n",
       "  <!-- Colored Rectangle -->\n",
       "  <polygon points=\"146.0,0.0 266.0,0.0 291.2345856010953,25.23458560109531 171.23458560109532,25.23458560109531\" style=\"fill:#ECB172A0;stroke-width:0\"/>\n",
       "\n",
       "  <!-- Horizontal lines -->\n",
       "  <line x1=\"171\" y1=\"25\" x2=\"291\" y2=\"25\" style=\"stroke-width:2\" />\n",
       "  <line x1=\"171\" y1=\"85\" x2=\"291\" y2=\"85\" style=\"stroke-width:2\" />\n",
       "\n",
       "  <!-- Vertical lines -->\n",
       "  <line x1=\"171\" y1=\"25\" x2=\"171\" y2=\"85\" style=\"stroke-width:2\" />\n",
       "  <line x1=\"291\" y1=\"25\" x2=\"291\" y2=\"85\" style=\"stroke-width:2\" />\n",
       "\n",
       "  <!-- Colored Rectangle -->\n",
       "  <polygon points=\"171.23458560109532,25.23458560109531 291.2345856010953,25.23458560109531 291.2345856010953,85.23458560109532 171.23458560109532,85.23458560109532\" style=\"fill:#ECB172A0;stroke-width:0\"/>\n",
       "\n",
       "  <!-- Text -->\n",
       "  <text x=\"231.234586\" y=\"105.234586\" font-size=\"1.0rem\" font-weight=\"100\" text-anchor=\"middle\" >512</text>\n",
       "  <text x=\"311.234586\" y=\"55.234586\" font-size=\"1.0rem\" font-weight=\"100\" text-anchor=\"middle\" transform=\"rotate(-90,311.234586,55.234586)\">256</text>\n",
       "  <text x=\"148.617293\" y=\"92.617293\" font-size=\"1.0rem\" font-weight=\"100\" text-anchor=\"middle\" transform=\"rotate(45,148.617293,92.617293)\">128</text>\n",
       "</svg>\n",
       "</td>\n",
       "</tr>\n",
       "</table>"
      ],
      "text/plain": [
       "dask.array<broadcast_to, shape=(328, 128, 256, 512), dtype=int64, chunksize=(328, 128, 256, 512), chunktype=numpy.ndarray>"
      ]
     },
     "execution_count": 16,
     "metadata": {},
     "output_type": "execute_result"
    }
   ],
   "source": [
    "c1[0]"
   ]
  },
  {
   "cell_type": "code",
   "execution_count": 17,
   "metadata": {},
   "outputs": [
    {
     "data": {
      "text/html": [
       "<table>\n",
       "<tr>\n",
       "<td>\n",
       "<table>\n",
       "  <thead>\n",
       "    <tr><td> </td><th> Array </th><th> Chunk </th></tr>\n",
       "  </thead>\n",
       "  <tbody>\n",
       "    <tr><th> Bytes </th><td> 44.02 GB </td> <td> 1.05 MB </td></tr>\n",
       "    <tr><th> Shape </th><td> (328, 128, 256, 512) </td> <td> (1, 1, 256, 512) </td></tr>\n",
       "    <tr><th> Count </th><td> 83971 Tasks </td><td> 41984 Chunks </td></tr>\n",
       "    <tr><th> Type </th><td> int64 </td><td> numpy.ndarray </td></tr>\n",
       "  </tbody>\n",
       "</table>\n",
       "</td>\n",
       "<td>\n",
       "<svg width=\"487\" height=\"135\" style=\"stroke:rgb(0,0,0);stroke-width:1\" >\n",
       "\n",
       "  <!-- Horizontal lines -->\n",
       "  <line x1=\"0\" y1=\"0\" x2=\"76\" y2=\"0\" style=\"stroke-width:2\" />\n",
       "  <line x1=\"0\" y1=\"25\" x2=\"76\" y2=\"25\" style=\"stroke-width:2\" />\n",
       "\n",
       "  <!-- Vertical lines -->\n",
       "  <line x1=\"0\" y1=\"0\" x2=\"0\" y2=\"25\" style=\"stroke-width:2\" />\n",
       "  <line x1=\"2\" y1=\"0\" x2=\"2\" y2=\"25\" />\n",
       "  <line x1=\"4\" y1=\"0\" x2=\"4\" y2=\"25\" />\n",
       "  <line x1=\"7\" y1=\"0\" x2=\"7\" y2=\"25\" />\n",
       "  <line x1=\"9\" y1=\"0\" x2=\"9\" y2=\"25\" />\n",
       "  <line x1=\"11\" y1=\"0\" x2=\"11\" y2=\"25\" />\n",
       "  <line x1=\"14\" y1=\"0\" x2=\"14\" y2=\"25\" />\n",
       "  <line x1=\"16\" y1=\"0\" x2=\"16\" y2=\"25\" />\n",
       "  <line x1=\"19\" y1=\"0\" x2=\"19\" y2=\"25\" />\n",
       "  <line x1=\"21\" y1=\"0\" x2=\"21\" y2=\"25\" />\n",
       "  <line x1=\"23\" y1=\"0\" x2=\"23\" y2=\"25\" />\n",
       "  <line x1=\"26\" y1=\"0\" x2=\"26\" y2=\"25\" />\n",
       "  <line x1=\"28\" y1=\"0\" x2=\"28\" y2=\"25\" />\n",
       "  <line x1=\"31\" y1=\"0\" x2=\"31\" y2=\"25\" />\n",
       "  <line x1=\"33\" y1=\"0\" x2=\"33\" y2=\"25\" />\n",
       "  <line x1=\"35\" y1=\"0\" x2=\"35\" y2=\"25\" />\n",
       "  <line x1=\"38\" y1=\"0\" x2=\"38\" y2=\"25\" />\n",
       "  <line x1=\"40\" y1=\"0\" x2=\"40\" y2=\"25\" />\n",
       "  <line x1=\"43\" y1=\"0\" x2=\"43\" y2=\"25\" />\n",
       "  <line x1=\"45\" y1=\"0\" x2=\"45\" y2=\"25\" />\n",
       "  <line x1=\"48\" y1=\"0\" x2=\"48\" y2=\"25\" />\n",
       "  <line x1=\"50\" y1=\"0\" x2=\"50\" y2=\"25\" />\n",
       "  <line x1=\"52\" y1=\"0\" x2=\"52\" y2=\"25\" />\n",
       "  <line x1=\"55\" y1=\"0\" x2=\"55\" y2=\"25\" />\n",
       "  <line x1=\"57\" y1=\"0\" x2=\"57\" y2=\"25\" />\n",
       "  <line x1=\"60\" y1=\"0\" x2=\"60\" y2=\"25\" />\n",
       "  <line x1=\"62\" y1=\"0\" x2=\"62\" y2=\"25\" />\n",
       "  <line x1=\"64\" y1=\"0\" x2=\"64\" y2=\"25\" />\n",
       "  <line x1=\"67\" y1=\"0\" x2=\"67\" y2=\"25\" />\n",
       "  <line x1=\"69\" y1=\"0\" x2=\"69\" y2=\"25\" />\n",
       "  <line x1=\"71\" y1=\"0\" x2=\"71\" y2=\"25\" />\n",
       "  <line x1=\"74\" y1=\"0\" x2=\"74\" y2=\"25\" />\n",
       "  <line x1=\"76\" y1=\"0\" x2=\"76\" y2=\"25\" style=\"stroke-width:2\" />\n",
       "\n",
       "  <!-- Colored Rectangle -->\n",
       "  <polygon points=\"0.0,0.0 76.875,0.0 76.875,25.412616514582485 0.0,25.412616514582485\" style=\"fill:#8B4903A0;stroke-width:0\"/>\n",
       "\n",
       "  <!-- Text -->\n",
       "  <text x=\"38.437500\" y=\"45.412617\" font-size=\"1.0rem\" font-weight=\"100\" text-anchor=\"middle\" >328</text>\n",
       "  <text x=\"96.875000\" y=\"12.706308\" font-size=\"1.0rem\" font-weight=\"100\" text-anchor=\"middle\" transform=\"rotate(0,96.875000,12.706308)\">1</text>\n",
       "\n",
       "\n",
       "  <!-- Horizontal lines -->\n",
       "  <line x1=\"146\" y1=\"0\" x2=\"171\" y2=\"25\" style=\"stroke-width:2\" />\n",
       "  <line x1=\"146\" y1=\"60\" x2=\"171\" y2=\"85\" style=\"stroke-width:2\" />\n",
       "\n",
       "  <!-- Vertical lines -->\n",
       "  <line x1=\"146\" y1=\"0\" x2=\"146\" y2=\"60\" style=\"stroke-width:2\" />\n",
       "  <line x1=\"146\" y1=\"0\" x2=\"146\" y2=\"60\" />\n",
       "  <line x1=\"147\" y1=\"1\" x2=\"147\" y2=\"61\" />\n",
       "  <line x1=\"148\" y1=\"2\" x2=\"148\" y2=\"62\" />\n",
       "  <line x1=\"149\" y1=\"3\" x2=\"149\" y2=\"63\" />\n",
       "  <line x1=\"149\" y1=\"3\" x2=\"149\" y2=\"63\" />\n",
       "  <line x1=\"150\" y1=\"4\" x2=\"150\" y2=\"64\" />\n",
       "  <line x1=\"151\" y1=\"5\" x2=\"151\" y2=\"65\" />\n",
       "  <line x1=\"152\" y1=\"6\" x2=\"152\" y2=\"66\" />\n",
       "  <line x1=\"153\" y1=\"7\" x2=\"153\" y2=\"67\" />\n",
       "  <line x1=\"153\" y1=\"7\" x2=\"153\" y2=\"67\" />\n",
       "  <line x1=\"154\" y1=\"8\" x2=\"154\" y2=\"68\" />\n",
       "  <line x1=\"155\" y1=\"9\" x2=\"155\" y2=\"69\" />\n",
       "  <line x1=\"156\" y1=\"10\" x2=\"156\" y2=\"70\" />\n",
       "  <line x1=\"157\" y1=\"11\" x2=\"157\" y2=\"71\" />\n",
       "  <line x1=\"157\" y1=\"11\" x2=\"157\" y2=\"71\" />\n",
       "  <line x1=\"158\" y1=\"12\" x2=\"158\" y2=\"72\" />\n",
       "  <line x1=\"159\" y1=\"13\" x2=\"159\" y2=\"73\" />\n",
       "  <line x1=\"160\" y1=\"14\" x2=\"160\" y2=\"74\" />\n",
       "  <line x1=\"160\" y1=\"14\" x2=\"160\" y2=\"74\" />\n",
       "  <line x1=\"161\" y1=\"15\" x2=\"161\" y2=\"75\" />\n",
       "  <line x1=\"162\" y1=\"16\" x2=\"162\" y2=\"76\" />\n",
       "  <line x1=\"163\" y1=\"17\" x2=\"163\" y2=\"77\" />\n",
       "  <line x1=\"164\" y1=\"18\" x2=\"164\" y2=\"78\" />\n",
       "  <line x1=\"164\" y1=\"18\" x2=\"164\" y2=\"78\" />\n",
       "  <line x1=\"165\" y1=\"19\" x2=\"165\" y2=\"79\" />\n",
       "  <line x1=\"166\" y1=\"20\" x2=\"166\" y2=\"80\" />\n",
       "  <line x1=\"167\" y1=\"21\" x2=\"167\" y2=\"81\" />\n",
       "  <line x1=\"168\" y1=\"22\" x2=\"168\" y2=\"82\" />\n",
       "  <line x1=\"168\" y1=\"22\" x2=\"168\" y2=\"82\" />\n",
       "  <line x1=\"169\" y1=\"23\" x2=\"169\" y2=\"83\" />\n",
       "  <line x1=\"170\" y1=\"24\" x2=\"170\" y2=\"84\" />\n",
       "  <line x1=\"171\" y1=\"25\" x2=\"171\" y2=\"85\" style=\"stroke-width:2\" />\n",
       "\n",
       "  <!-- Colored Rectangle -->\n",
       "  <polygon points=\"146.0,0.0 171.23458560109532,25.23458560109531 171.23458560109532,85.23458560109532 146.0,60.0\" style=\"fill:#8B4903A0;stroke-width:0\"/>\n",
       "\n",
       "  <!-- Horizontal lines -->\n",
       "  <line x1=\"146\" y1=\"0\" x2=\"266\" y2=\"0\" style=\"stroke-width:2\" />\n",
       "  <line x1=\"146\" y1=\"0\" x2=\"266\" y2=\"0\" />\n",
       "  <line x1=\"147\" y1=\"1\" x2=\"267\" y2=\"1\" />\n",
       "  <line x1=\"148\" y1=\"2\" x2=\"268\" y2=\"2\" />\n",
       "  <line x1=\"149\" y1=\"3\" x2=\"269\" y2=\"3\" />\n",
       "  <line x1=\"149\" y1=\"3\" x2=\"269\" y2=\"3\" />\n",
       "  <line x1=\"150\" y1=\"4\" x2=\"270\" y2=\"4\" />\n",
       "  <line x1=\"151\" y1=\"5\" x2=\"271\" y2=\"5\" />\n",
       "  <line x1=\"152\" y1=\"6\" x2=\"272\" y2=\"6\" />\n",
       "  <line x1=\"153\" y1=\"7\" x2=\"273\" y2=\"7\" />\n",
       "  <line x1=\"153\" y1=\"7\" x2=\"273\" y2=\"7\" />\n",
       "  <line x1=\"154\" y1=\"8\" x2=\"274\" y2=\"8\" />\n",
       "  <line x1=\"155\" y1=\"9\" x2=\"275\" y2=\"9\" />\n",
       "  <line x1=\"156\" y1=\"10\" x2=\"276\" y2=\"10\" />\n",
       "  <line x1=\"157\" y1=\"11\" x2=\"277\" y2=\"11\" />\n",
       "  <line x1=\"157\" y1=\"11\" x2=\"277\" y2=\"11\" />\n",
       "  <line x1=\"158\" y1=\"12\" x2=\"278\" y2=\"12\" />\n",
       "  <line x1=\"159\" y1=\"13\" x2=\"279\" y2=\"13\" />\n",
       "  <line x1=\"160\" y1=\"14\" x2=\"280\" y2=\"14\" />\n",
       "  <line x1=\"160\" y1=\"14\" x2=\"280\" y2=\"14\" />\n",
       "  <line x1=\"161\" y1=\"15\" x2=\"281\" y2=\"15\" />\n",
       "  <line x1=\"162\" y1=\"16\" x2=\"282\" y2=\"16\" />\n",
       "  <line x1=\"163\" y1=\"17\" x2=\"283\" y2=\"17\" />\n",
       "  <line x1=\"164\" y1=\"18\" x2=\"284\" y2=\"18\" />\n",
       "  <line x1=\"164\" y1=\"18\" x2=\"284\" y2=\"18\" />\n",
       "  <line x1=\"165\" y1=\"19\" x2=\"285\" y2=\"19\" />\n",
       "  <line x1=\"166\" y1=\"20\" x2=\"286\" y2=\"20\" />\n",
       "  <line x1=\"167\" y1=\"21\" x2=\"287\" y2=\"21\" />\n",
       "  <line x1=\"168\" y1=\"22\" x2=\"288\" y2=\"22\" />\n",
       "  <line x1=\"168\" y1=\"22\" x2=\"288\" y2=\"22\" />\n",
       "  <line x1=\"169\" y1=\"23\" x2=\"289\" y2=\"23\" />\n",
       "  <line x1=\"170\" y1=\"24\" x2=\"290\" y2=\"24\" />\n",
       "  <line x1=\"171\" y1=\"25\" x2=\"291\" y2=\"25\" style=\"stroke-width:2\" />\n",
       "\n",
       "  <!-- Vertical lines -->\n",
       "  <line x1=\"146\" y1=\"0\" x2=\"171\" y2=\"25\" style=\"stroke-width:2\" />\n",
       "  <line x1=\"266\" y1=\"0\" x2=\"291\" y2=\"25\" style=\"stroke-width:2\" />\n",
       "\n",
       "  <!-- Colored Rectangle -->\n",
       "  <polygon points=\"146.0,0.0 266.0,0.0 291.2345856010953,25.23458560109531 171.23458560109532,25.23458560109531\" style=\"fill:#8B4903A0;stroke-width:0\"/>\n",
       "\n",
       "  <!-- Horizontal lines -->\n",
       "  <line x1=\"171\" y1=\"25\" x2=\"291\" y2=\"25\" style=\"stroke-width:2\" />\n",
       "  <line x1=\"171\" y1=\"85\" x2=\"291\" y2=\"85\" style=\"stroke-width:2\" />\n",
       "\n",
       "  <!-- Vertical lines -->\n",
       "  <line x1=\"171\" y1=\"25\" x2=\"171\" y2=\"85\" style=\"stroke-width:2\" />\n",
       "  <line x1=\"291\" y1=\"25\" x2=\"291\" y2=\"85\" style=\"stroke-width:2\" />\n",
       "\n",
       "  <!-- Colored Rectangle -->\n",
       "  <polygon points=\"171.23458560109532,25.23458560109531 291.2345856010953,25.23458560109531 291.2345856010953,85.23458560109532 171.23458560109532,85.23458560109532\" style=\"fill:#ECB172A0;stroke-width:0\"/>\n",
       "\n",
       "  <!-- Text -->\n",
       "  <text x=\"231.234586\" y=\"105.234586\" font-size=\"1.0rem\" font-weight=\"100\" text-anchor=\"middle\" >512</text>\n",
       "  <text x=\"311.234586\" y=\"55.234586\" font-size=\"1.0rem\" font-weight=\"100\" text-anchor=\"middle\" transform=\"rotate(-90,311.234586,55.234586)\">256</text>\n",
       "  <text x=\"148.617293\" y=\"92.617293\" font-size=\"1.0rem\" font-weight=\"100\" text-anchor=\"middle\" transform=\"rotate(45,148.617293,92.617293)\">128</text>\n",
       "</svg>\n",
       "</td>\n",
       "</tr>\n",
       "</table>"
      ],
      "text/plain": [
       "dask.array<rechunk-merge, shape=(328, 128, 256, 512), dtype=int64, chunksize=(1, 1, 256, 512), chunktype=numpy.ndarray>"
      ]
     },
     "execution_count": 17,
     "metadata": {},
     "output_type": "execute_result"
    }
   ],
   "source": [
    "c1[0].rechunk([1, 1, *c1[0].shape[2:]])"
   ]
  },
  {
   "cell_type": "code",
   "execution_count": 18,
   "metadata": {},
   "outputs": [],
   "source": [
    "c1 = [c.rechunk([1, 1, *c.shape[2:]]) for c in c1]"
   ]
  },
  {
   "cell_type": "code",
   "execution_count": 19,
   "metadata": {},
   "outputs": [],
   "source": [
    "c2 = [c.rechunk([1, 1, *c.shape[2:]]) for c in c2]"
   ]
  },
  {
   "cell_type": "code",
   "execution_count": 20,
   "metadata": {},
   "outputs": [],
   "source": [
    "c1_reshaped = [c.reshape(numpy.prod(p.shape)) for c in c1]"
   ]
  },
  {
   "cell_type": "code",
   "execution_count": 21,
   "metadata": {},
   "outputs": [],
   "source": [
    "c2_reshaped = [c.reshape(numpy.prod(pressure_levels_b.shape)) for c in c2]"
   ]
  },
  {
   "cell_type": "code",
   "execution_count": 22,
   "metadata": {},
   "outputs": [
    {
     "ename": "TypeError",
     "evalue": "All variadic arguments must be arrays, not ['list', 'Array', 'list']\nUsage:   da.map_overlap(function, x)\n   or:   da.map_overlap(function, x, y, z)",
     "output_type": "error",
     "traceback": [
      "\u001b[0;31m---------------------------------------------------------------------------\u001b[0m",
      "\u001b[0;31mTypeError\u001b[0m                                 Traceback (most recent call last)",
      "\u001b[0;32m<ipython-input-22-743cab0efccf>\u001b[0m in \u001b[0;36m<module>\u001b[0;34m\u001b[0m\n\u001b[1;32m      2\u001b[0m \u001b[0ms2\u001b[0m \u001b[0;34m=\u001b[0m \u001b[0mnumpy\u001b[0m\u001b[0;34m.\u001b[0m\u001b[0mprod\u001b[0m\u001b[0;34m(\u001b[0m\u001b[0mpressure_levels_b\u001b[0m\u001b[0;34m.\u001b[0m\u001b[0mshape\u001b[0m\u001b[0;34m)\u001b[0m\u001b[0;34m\u001b[0m\u001b[0;34m\u001b[0m\u001b[0m\n\u001b[1;32m      3\u001b[0m \u001b[0ms1\u001b[0m \u001b[0;34m=\u001b[0m \u001b[0mnumpy\u001b[0m\u001b[0;34m.\u001b[0m\u001b[0mprod\u001b[0m\u001b[0;34m(\u001b[0m\u001b[0mp\u001b[0m\u001b[0;34m.\u001b[0m\u001b[0mshape\u001b[0m\u001b[0;34m)\u001b[0m\u001b[0;34m\u001b[0m\u001b[0;34m\u001b[0m\u001b[0m\n\u001b[0;32m----> 4\u001b[0;31m \u001b[0mresult\u001b[0m \u001b[0;34m=\u001b[0m \u001b[0mdask\u001b[0m\u001b[0;34m.\u001b[0m\u001b[0marray\u001b[0m\u001b[0;34m.\u001b[0m\u001b[0mmap_overlap\u001b[0m\u001b[0;34m(\u001b[0m\u001b[0mgriddata\u001b[0m\u001b[0;34m,\u001b[0m \u001b[0mc1_reshaped\u001b[0m\u001b[0;34m,\u001b[0m \u001b[0mt\u001b[0m\u001b[0;34m.\u001b[0m\u001b[0mdata\u001b[0m\u001b[0;34m.\u001b[0m\u001b[0mreshape\u001b[0m\u001b[0;34m(\u001b[0m\u001b[0ms1\u001b[0m\u001b[0;34m)\u001b[0m\u001b[0;34m,\u001b[0m \u001b[0mc2_reshaped\u001b[0m\u001b[0;34m)\u001b[0m \u001b[0;31m#.reshape(s2)\u001b[0m\u001b[0;34m\u001b[0m\u001b[0;34m\u001b[0m\u001b[0m\n\u001b[0m",
      "\u001b[0;32m~/.conda/envs/e3smplot/lib/python3.8/site-packages/dask/array/overlap.py\u001b[0m in \u001b[0;36mmap_overlap\u001b[0;34m(func, depth, boundary, trim, align_arrays, *args, **kwargs)\u001b[0m\n\u001b[1;32m    677\u001b[0m         )\n\u001b[1;32m    678\u001b[0m     \u001b[0;32mif\u001b[0m \u001b[0;32mnot\u001b[0m \u001b[0mall\u001b[0m\u001b[0;34m(\u001b[0m\u001b[0misinstance\u001b[0m\u001b[0;34m(\u001b[0m\u001b[0mx\u001b[0m\u001b[0;34m,\u001b[0m \u001b[0mArray\u001b[0m\u001b[0;34m)\u001b[0m \u001b[0;32mfor\u001b[0m \u001b[0mx\u001b[0m \u001b[0;32min\u001b[0m \u001b[0margs\u001b[0m\u001b[0;34m)\u001b[0m\u001b[0;34m:\u001b[0m\u001b[0;34m\u001b[0m\u001b[0;34m\u001b[0m\u001b[0m\n\u001b[0;32m--> 679\u001b[0;31m         raise TypeError(\n\u001b[0m\u001b[1;32m    680\u001b[0m             \u001b[0;34m\"All variadic arguments must be arrays, not {}\\n\"\u001b[0m\u001b[0;34m\u001b[0m\u001b[0;34m\u001b[0m\u001b[0m\n\u001b[1;32m    681\u001b[0m             \u001b[0;34m\"Usage:   da.map_overlap(function, x)\\n\"\u001b[0m\u001b[0;34m\u001b[0m\u001b[0;34m\u001b[0m\u001b[0m\n",
      "\u001b[0;31mTypeError\u001b[0m: All variadic arguments must be arrays, not ['list', 'Array', 'list']\nUsage:   da.map_overlap(function, x)\n   or:   da.map_overlap(function, x, y, z)"
     ]
    }
   ],
   "source": [
    "from scipy.interpolate import griddata\n",
    "s2 = numpy.prod(pressure_levels_b.shape)\n",
    "s1 = numpy.prod(p.shape)\n",
    "result = dask.array.map_overlap(griddata, c1_reshaped, t.data.reshape(s1), c2_reshaped) #.reshape(s2)"
   ]
  },
  {
   "cell_type": "code",
   "execution_count": 49,
   "metadata": {},
   "outputs": [],
   "source": [
    "t_int_mean = t_int.mean(dim=('time', 'lon'), keep_attrs=True)\n",
    "t_mean = t.mean(dim=('time', 'lon'), keep_attrs=True)"
   ]
  },
  {
   "cell_type": "code",
   "execution_count": 1,
   "metadata": {},
   "outputs": [
    {
     "ename": "NameError",
     "evalue": "name 't_int_mean' is not defined",
     "output_type": "error",
     "traceback": [
      "\u001b[0;31m---------------------------------------------------------------------------\u001b[0m",
      "\u001b[0;31mNameError\u001b[0m                                 Traceback (most recent call last)",
      "\u001b[0;32m<ipython-input-1-fdc9f8ce1be8>\u001b[0m in \u001b[0;36m<module>\u001b[0;34m\u001b[0m\n\u001b[0;32m----> 1\u001b[0;31m \u001b[0mt_int_mean\u001b[0m\u001b[0;34m.\u001b[0m\u001b[0mshape\u001b[0m\u001b[0;34m\u001b[0m\u001b[0;34m\u001b[0m\u001b[0m\n\u001b[0m",
      "\u001b[0;31mNameError\u001b[0m: name 't_int_mean' is not defined"
     ]
    }
   ],
   "source": [
    "t_int_mean.shape"
   ]
  },
  {
   "cell_type": "code",
   "execution_count": 55,
   "metadata": {},
   "outputs": [
    {
     "data": {
      "image/png": "[encoded data removed]",
      "text/plain": [
       "<Figure size 432x288 with 2 Axes>"
      ]
     },
     "metadata": {
      "needs_background": "light"
     },
     "output_type": "display_data"
    }
   ],
   "source": [
    "from matplotlib import pyplot\n",
    "figure, axes = pyplot.subplots(2, 1)"
   ]
  },
  {
   "cell_type": "code",
   "execution_count": 57,
   "metadata": {},
   "outputs": [
    {
     "name": "stderr",
     "output_type": "stream",
     "text": [
      "<ipython-input-57-6692561dd12e>:3: MatplotlibDeprecationWarning: shading='flat' when X and Y have the same dimensions as C is deprecated since 3.3.  Either specify the corners of the quadrilaterals with X and Y, or pass shading='auto', 'nearest' or 'gouraud', or set rcParams['pcolor.shading'].  This will become an error two minor releases later.\n",
      "  pl = ax.pcolormesh(t_mean.lat, t_mean.lev, t_mean)\n",
      "<ipython-input-57-6692561dd12e>:8: MatplotlibDeprecationWarning: shading='flat' when X and Y have the same dimensions as C is deprecated since 3.3.  Either specify the corners of the quadrilaterals with X and Y, or pass shading='auto', 'nearest' or 'gouraud', or set rcParams['pcolor.shading'].  This will become an error two minor releases later.\n",
      "  pl = ax.pcolormesh(t_int_mean.lat, t_int_mean.level, t_int_mean)\n"
     ]
    },
    {
     "data": {
      "text/plain": [
       "Text(0, 0.5, 'Pressure level (hPa)')"
      ]
     },
     "execution_count": 57,
     "metadata": {},
     "output_type": "execute_result"
    },
    {
     "data": {
      "image/png": "[encoded data removed]",
      "text/plain": [
       "<Figure size 432x288 with 2 Axes>"
      ]
     },
     "metadata": {
      "needs_background": "light"
     },
     "output_type": "display_data"
    }
   ],
   "source": [
    "figure, axes = pyplot.subplots(2, 1)\n",
    "ax = figure.add_axes(axes[0])\n",
    "pl = ax.pcolormesh(t_mean.lat, t_mean.lev, t_mean)\n",
    "ax.set_xlabel('latitude')\n",
    "ax.set_ylabel(f'{t_mean.lev.long_name} ({t_mean.lev.units})')\n",
    "\n",
    "ax = figure.add_axes(axes[1])\n",
    "pl = ax.pcolormesh(t_int_mean.lat, t_int_mean.level, t_int_mean)\n",
    "ax.set_xlabel('latitude')\n",
    "ax.set_ylabel(f'{t_int_mean.level.long_name} ({t_int_mean.level.units})')\n",
    "\n",
    "# Reverse direction of vertical axes since using pressure coordinates\n",
    "for ax in axes:\n",
    "    ax.set_ylim(ax.get_ylim()[::-1])"
   ]
  },
  {
   "cell_type": "code",
   "execution_count": null,
   "metadata": {},
   "outputs": [],
   "source": []
  }
 ],
 "metadata": {
  "kernelspec": {
   "display_name": "e3smplot",
   "language": "python",
   "name": "e3smplot"
  },
  "language_info": {
   "codemirror_mode": {
    "name": "ipython",
    "version": 3
   },
   "file_extension": ".py",
   "mimetype": "text/x-python",
   "name": "python",
   "nbconvert_exporter": "python",
   "pygments_lexer": "ipython3",
   "version": "3.8.6"
  }
 },
 "nbformat": 4,
 "nbformat_minor": 4
}

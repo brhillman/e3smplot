{
 "cells": [
  {
   "cell_type": "code",
   "execution_count": 1,
   "metadata": {},
   "outputs": [],
   "source": [
    "%matplotlib inline\n",
    "%load_ext autoreload\n",
    "%autoreload 2"
   ]
  },
  {
   "cell_type": "code",
   "execution_count": 2,
   "metadata": {},
   "outputs": [],
   "source": [
    "from glob import glob\n",
    "import xarray\n",
    "import numpy\n",
    "from matplotlib import pyplot\n",
    "from e3smplot.e3sm_utils import open_dataset, get_data, get_area_weights, area_average, can_retrieve_field"
   ]
  },
  {
   "cell_type": "code",
   "execution_count": 3,
   "metadata": {},
   "outputs": [],
   "source": [
    "# Compute a cloud mask based on a threshold of liquid and ice water content\n",
    "def get_liq_cloud_mask(ds, threshold=1e-5):\n",
    "    cldliq = get_data(ds, 'CLDLIQ')\n",
    "    cld_mask = (cldliq > threshold) #(cldliq > threshold)\n",
    "    cld_mask.attrs = {\n",
    "        'long_name': 'Liquid cloud mask',\n",
    "        'units': 'none',\n",
    "        'description': f'CLDLIQ > {threshold}',\n",
    "    }\n",
    "    return cld_mask\n",
    "\n",
    "def get_ice_cloud_mask(ds, threshold=1e-5):\n",
    "    cldice = get_data(ds, 'CLDICE')\n",
    "    cld_mask = (cldice > threshold) #(cldice > threshold)\n",
    "    cld_mask.attrs = {\n",
    "        'long_name': 'Ice cloud mask',\n",
    "        'units': 'none',\n",
    "        'description': f'CLDICE > {threshold}',\n",
    "    }\n",
    "    return cld_mask\n",
    "\n",
    "def get_cloud_mask(ds):\n",
    "    liq_mask = get_liq_cloud_mask(ds)\n",
    "    ice_mask = get_ice_cloud_mask(ds)\n",
    "    cld_mask = (liq_mask + ice_mask) > 0 #((liq_mask > 0) | (ice_mask > 0))\n",
    "    cld_mask.attrs = {\n",
    "        'long_name': 'Cloud mask',\n",
    "        'units': 'none',\n",
    "        'description': f'{liq_mask.attrs[\"description\"]} | {ice_mask.attrs[\"description\"]}',\n",
    "    }\n",
    "    return cld_mask\n",
    "\n",
    "# Vertically-projected cloud area (shadow)\n",
    "def get_liq_cloud_area(ds):\n",
    "    # First get 3D cloud mask\n",
    "    cld_mask = get_liq_cloud_mask(ds)\n",
    "    # Project down\n",
    "    cld_area = (cld_mask > 0).any(dim='lev')\n",
    "    cld_area.attrs = {\n",
    "        'long_name': 'Liquid cloud area mask',\n",
    "        'units': 'none',\n",
    "        'description': 'any(cld_mask > 0)',\n",
    "    }\n",
    "    return cld_area\n",
    "# Vertically-projected cloud area (shadow)\n",
    "def get_ice_cloud_area(ds):\n",
    "    # First get 3D cloud mask\n",
    "    cld_mask = get_ice_cloud_mask(ds)\n",
    "    # Project down\n",
    "    cld_area = (cld_mask > 0).any(dim='lev')\n",
    "    cld_area.attrs = {\n",
    "        'long_name': 'Ice cloud area mask',\n",
    "        'units': 'none',\n",
    "        'description': 'any(cld_mask > 0)',\n",
    "    }\n",
    "    return cld_area\n",
    "\n",
    "# Vertically-projected cloud area (shadow)\n",
    "def get_cloud_area(ds):\n",
    "    # First get 3D cloud mask\n",
    "    cld_mask = get_cloud_mask(ds)\n",
    "    # Project down\n",
    "    cld_area = (cld_mask > 0).any(dim='lev')\n",
    "    cld_area.attrs = {\n",
    "        'long_name': 'Cloud area mask',\n",
    "        'units': 'none',\n",
    "        'description': 'any(cld_mask > 0)',\n",
    "    }\n",
    "    return cld_area"
   ]
  },
  {
   "cell_type": "code",
   "execution_count": 6,
   "metadata": {},
   "outputs": [
    {
     "name": "stdout",
     "output_type": "stream",
     "text": [
      "CLDTOT\n",
      "  find files...\n",
      "  load dataset...\n",
      "  get data...\n",
      "  compute averages...\n",
      "  convert units...\n",
      "  plot...\n",
      "LIQ_MASK\n",
      "  find files...\n",
      "  load dataset...\n",
      "  get data...\n",
      "  compute averages...\n",
      "  convert units...\n",
      "  plot...\n",
      "ICE_MASK\n",
      "  find files...\n",
      "  load dataset...\n",
      "  get data...\n",
      "  compute averages...\n",
      "  convert units...\n",
      "  plot...\n",
      "CLD_MASK\n",
      "  find files...\n",
      "  load dataset...\n",
      "  get data...\n",
      "  compute averages...\n",
      "  convert units...\n",
      "  plot...\n"
     ]
    },
    {
     "data": {
      "image/png": "[encoded data removed]",
      "text/plain": [
       "<Figure size 432x288 with 1 Axes>"
      ]
     },
     "metadata": {
      "needs_background": "light"
     },
     "output_type": "display_data"
    }
   ],
   "source": [
    "import sys\n",
    "# Compare time series of CLDTOT, LIQ_MASK, ICE_MASK, CLD_MASK\n",
    "variable_names = ('CLDTOT', 'LIQ_MASK', 'ICE_MASK', 'CLD_MASK')\n",
    "output_path = '/global/cfs/cdirs/e3sm/terai/SCREAM/DYAMOND2/Output/20201127'\n",
    "all_files = glob(f'{output_path}/*.eam.h[0-9].*.nc')\n",
    "figure, ax = pyplot.subplots(1, 1) # figsize=(10, 10))\n",
    "\n",
    "for ivar, v in enumerate(variable_names):\n",
    "    # find files\n",
    "    print(v)\n",
    "    print('  find files...'); sys.stdout.flush()\n",
    "    these_files = [f for f in all_files if can_retrieve_field(f, v)]\n",
    "    \n",
    "    # Load files\n",
    "    print('  load dataset...'); sys.stdout.flush()\n",
    "    ds = open_dataset(sorted(these_files), chunks={'time': 1, 'lev': 1})\n",
    "    \n",
    "    # Get data\n",
    "    print('  get data...'); sys.stdout.flush()\n",
    "    data = get_data(ds, v)\n",
    "\n",
    "    # Compute area mask\n",
    "    if 'lev' in data.dims:\n",
    "        data = data.max(dim='lev', keep_attrs=True)\n",
    "\n",
    "    # Compute area averages\n",
    "    print('  compute averages...'); sys.stdout.flush()\n",
    "    w = get_area_weights(ds)\n",
    "    m = area_average(data, w, dims=[d for d in data.dims if d != 'time'])\n",
    "    \n",
    "    # Convert units\n",
    "    print('  convert units...'); sys.stdout.flush()\n",
    "    if data.attrs['units'] == 'none':\n",
    "        m = 100.0 * m\n",
    "        m.attrs['units'] = '%'\n",
    "        \n",
    "    # Plot timeseries\n",
    "    print('  plot...'); sys.stdout.flush()\n",
    "    pl = ax.plot(data.time, m, label=v)\n",
    "    \n",
    "    ds.close()\n",
    "    \n",
    "ax.set_ylabel(m.attrs['units'])\n",
    "ax.xaxis.set_tick_params(rotation=45.0)\n",
    "lh = pyplot.legend()"
   ]
  },
  {
   "cell_type": "code",
   "execution_count": 10,
   "metadata": {},
   "outputs": [],
   "source": [
    "figure.savefig('cloud_masks.pdf', bbox_inches='tight')"
   ]
  },
  {
   "cell_type": "code",
   "execution_count": 15,
   "metadata": {},
   "outputs": [
    {
     "name": "stdout",
     "output_type": "stream",
     "text": [
      "CLDTOT\n",
      "  find files...\n",
      "  load dataset...\n",
      "  get data...\n",
      "  compute averages...\n",
      "  plot...\n",
      "CLOUD\n",
      "  find files...\n",
      "  load dataset...\n",
      "  get data...\n",
      "  compute averages...\n",
      "  convert units...\n",
      "  plot...\n"
     ]
    },
    {
     "data": {
      "image/png": "[encoded data removed]",
      "text/plain": [
       "<Figure size 432x288 with 1 Axes>"
      ]
     },
     "metadata": {
      "needs_background": "light"
     },
     "output_type": "display_data"
    }
   ],
   "source": [
    "import sys\n",
    "# Compare time series of CLDTOT, LIQ_MASK, ICE_MASK, CLD_MASK\n",
    "variable_names = ('CLDTOT', 'CLOUD',)\n",
    "output_path = '/global/cfs/cdirs/e3sm/terai/SCREAM/DYAMOND2/Output/20201127'\n",
    "all_files = glob(f'{output_path}/*.eam.h[0-9].*.nc')\n",
    "figure, ax = pyplot.subplots(1, 1) # figsize=(10, 10))\n",
    "threshold = 0.5\n",
    "for ivar, v in enumerate(variable_names):\n",
    "    # find files\n",
    "    print(v)\n",
    "    print('  find files...'); sys.stdout.flush()\n",
    "    these_files = [f for f in all_files if can_retrieve_field(f, v)]\n",
    "    \n",
    "    # Load files\n",
    "    print('  load dataset...'); sys.stdout.flush()\n",
    "    ds = open_dataset(sorted(these_files), chunks={'time': 1, 'lev': 1})\n",
    "    \n",
    "    # Get data\n",
    "    print('  get data...'); sys.stdout.flush()\n",
    "    data = get_data(ds, v)\n",
    "\n",
    "    # Compute area mask\n",
    "    if 'lev' in data.dims:\n",
    "        data = data.max(dim='lev', keep_attrs=True)\n",
    "\n",
    "    if v == 'CLOUD':\n",
    "        attrs = data.attrs\n",
    "        data = data > threshold\n",
    "        data.attrs = attrs\n",
    "        \n",
    "    # Compute area averages\n",
    "    print('  compute averages...'); sys.stdout.flush()\n",
    "    w = get_area_weights(ds)\n",
    "    m = area_average(data, w, dims=[d for d in data.dims if d != 'time'])\n",
    "    \n",
    "    # Convert units\n",
    "    if data.attrs['units'] in ('fraction', 'none'):\n",
    "        print('  convert units...'); sys.stdout.flush()\n",
    "        m = 100.0 * m\n",
    "        m.attrs['units'] = '%'\n",
    "        \n",
    "    # Plot timeseries\n",
    "    print('  plot...'); sys.stdout.flush()\n",
    "    pl = ax.plot(data.time, m, label=v)\n",
    "    \n",
    "    ds.close()\n",
    "    \n",
    "ax.set_ylabel(m.attrs['units'])\n",
    "ax.xaxis.set_tick_params(rotation=45.0)\n",
    "lh = pyplot.legend()"
   ]
  },
  {
   "cell_type": "code",
   "execution_count": 16,
   "metadata": {},
   "outputs": [
    {
     "name": "stdout",
     "output_type": "stream",
     "text": [
      "done\n"
     ]
    }
   ],
   "source": [
    "print('done')"
   ]
  },
  {
   "cell_type": "code",
   "execution_count": 17,
   "metadata": {},
   "outputs": [],
   "source": [
    "figure.savefig('cloud_mask2.png', bbox_inches='tight')"
   ]
  },
  {
   "cell_type": "code",
   "execution_count": 24,
   "metadata": {},
   "outputs": [
    {
     "name": "stdout",
     "output_type": "stream",
     "text": [
      "  compute averages...\n",
      "  convert units...\n",
      "  plot...\n"
     ]
    },
    {
     "data": {
      "image/png": "[encoded data removed]",
      "text/plain": [
       "<Figure size 432x288 with 1 Axes>"
      ]
     },
     "metadata": {
      "needs_background": "light"
     },
     "output_type": "display_data"
    }
   ],
   "source": [
    "import sys\n",
    "\n",
    "# Compare time series of CLDTOT, LIQ_MASK, ICE_MASK, CLD_MASK\n",
    "variable_names = ('CLDTOT', 'RADCLD',)\n",
    "output_path = '/global/cfs/cdirs/e3sm/terai/SCREAM/DYAMOND2/Output/20201127'\n",
    "all_files = glob(f'{output_path}/*.eam.h[0-9].2020-01-31-*.nc')\n",
    "figure, ax = pyplot.subplots(1, 1) # figsize=(10, 10))\n",
    "threshold = 0.0\n",
    "    \n",
    "# Get cloud fraction\n",
    "cloud_files = [f for f in all_files if can_retrieve_field(f, 'CLOUD')]\n",
    "ds_cloud = open_dataset(sorted(cloud_files), chunks={'time': 1, 'lev': 1})\n",
    "cloud = get_data(ds_cloud, 'CLOUD')\n",
    "\n",
    "# Get visible wavelength cloud optical depth\n",
    "optics_files = [f for f in all_files if can_retrieve_field(f, 'EMIS')]\n",
    "ds_optics = open_dataset(sorted(optics_files), chunks={'time': 1, 'lev': 1})\n",
    "dtau_cld = get_data(ds_optics, 'EMIS')\n",
    "\n",
    "# Get mean optical depth for each layer\n",
    "#dtau = cloud * dtau_cld\n",
    "dtau = dtau_cld\n",
    "\n",
    "# Compute total column optical depth\n",
    "tau = dtau.sum(dim='lev')\n",
    "\n",
    "# Compute cloud mask based on optical depth threshold\n",
    "cloud_mask = tau > threshold\n",
    "cloud_mask.attrs = {\n",
    "    'long_name': 'Cloud mask (tau > {threshold})',\n",
    "    'units'    : 'none',\n",
    "}\n",
    "data = cloud_mask\n",
    "\n",
    "# Compute area averages\n",
    "print('  compute averages...'); sys.stdout.flush()\n",
    "w = get_area_weights(ds_optics)\n",
    "m = area_average(data, w, dims=[d for d in data.dims if d != 'time'])\n",
    "\n",
    "# Convert units\n",
    "if data.attrs['units'] in ('fraction', 'none'):\n",
    "    print('  convert units...'); sys.stdout.flush()\n",
    "    m = 100.0 * m\n",
    "    m.attrs['units'] = '%'\n",
    "\n",
    "# Plot timeseries\n",
    "print('  plot...'); sys.stdout.flush()\n",
    "pl = ax.plot(data.time, m, label=v)\n",
    "\n",
    "ds_cloud.close()\n",
    "ds_optics.close()\n",
    "\n",
    "ax.set_ylabel(m.attrs['units'])\n",
    "ax.xaxis.set_tick_params(rotation=45.0)\n",
    "lh = pyplot.legend()"
   ]
  },
  {
   "cell_type": "code",
   "execution_count": 19,
   "metadata": {},
   "outputs": [
    {
     "data": {
      "text/plain": [
       "[]"
      ]
     },
     "execution_count": 19,
     "metadata": {},
     "output_type": "execute_result"
    }
   ],
   "source": [
    "optics_files"
   ]
  },
  {
   "cell_type": "code",
   "execution_count": null,
   "metadata": {},
   "outputs": [],
   "source": []
  }
 ],
 "metadata": {
  "kernelspec": {
   "display_name": "e3smplot",
   "language": "python",
   "name": "e3smplot"
  },
  "language_info": {
   "codemirror_mode": {
    "name": "ipython",
    "version": 3
   },
   "file_extension": ".py",
   "mimetype": "text/x-python",
   "name": "python",
   "nbconvert_exporter": "python",
   "pygments_lexer": "ipython3",
   "version": "3.8.6"
  }
 },
 "nbformat": 4,
 "nbformat_minor": 4
}

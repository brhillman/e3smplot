{
 "cells": [
  {
   "cell_type": "code",
   "execution_count": 29,
   "metadata": {},
   "outputs": [
    {
     "name": "stdout",
     "output_type": "stream",
     "text": [
      "The autoreload extension is already loaded. To reload it, use:\n",
      "  %reload_ext autoreload\n"
     ]
    }
   ],
   "source": [
    "%matplotlib inline\n",
    "%load_ext autoreload\n",
    "%autoreload 2\n",
    "import numpy as np\n",
    "import xarray as xr\n",
    "from matplotlib import pyplot as plt\n",
    "from cartopy import crs"
   ]
  },
  {
   "cell_type": "code",
   "execution_count": 30,
   "metadata": {},
   "outputs": [],
   "source": [
    "# Find and read data\n",
    "from glob import glob\n",
    "products = ('2B-CWC-RVOD', 'ECMWF-AUX')\n",
    "versions = ('P1_R05', 'P_R05')\n",
    "data_root = '/global/cfs/cdirs/e3sm/bhillma/obs_datasets/cloudsat'\n",
    "files = {c: sorted(glob(f'{data_root}/{c}/*/*.hdf')) for c in products}\n",
    "\n",
    "debug = True"
   ]
  },
  {
   "cell_type": "code",
   "execution_count": 3,
   "metadata": {},
   "outputs": [],
   "source": [
    "# Define some functions to work with CloudSat HDF data. These were pulled\n",
    "# from my misreval git repo. Should maintain these separately!\n",
    "\n",
    "# Some common imports\n",
    "import pandas, datetime, calendar, os, psutil\n",
    "\n",
    "# function to digest SDs and VDATA from HDF files and return xarray datasets\n",
    "# attempts to be smart about missing data and attributes and such\n",
    "# but HDF is an abomination, and seems to be difficult to get\n",
    "# information about coordinate variables and such, especially for\n",
    "# things like CloudSat data, where some data is stored in VDATA and\n",
    "# other data stored in SDs. This probably needs some work...\n",
    "from pyhdf.SD import SD, SDC\n",
    "from pyhdf.HDF import HDF\n",
    "import pyhdf.VS\n",
    "def open_dataset_hdf(filename, variables=None, drop_variables=[]):\n",
    "    da_dict = {}\n",
    "    \n",
    "    # First read SD (scientific datasets)\n",
    "    sd = SD(filename)\n",
    "    if variables is None: \n",
    "        data_vars = sd.datasets().keys()\n",
    "    else:\n",
    "        data_vars = variables\n",
    "    for dname in data_vars:\n",
    "        \n",
    "        if dname in drop_variables: continue\n",
    "        if dname not in sd.datasets().keys(): continue\n",
    "        \n",
    "        sds = sd.select(dname)\n",
    "\n",
    "        # get (masked) data\n",
    "        d = np.where(sds[:] != sds.getfillvalue(), sds[:], np.nan)\n",
    "\n",
    "        # check for more masks\n",
    "        if 'missing' in sds.attributes():\n",
    "            d[d == sds.missing] = np.nan\n",
    "\n",
    "        # unpack data\n",
    "        if 'offset' in sds.attributes() and 'factor' in sds.attributes():\n",
    "            d = d / sds.factor + sds.offset\n",
    "\n",
    "        # coordinate variables...how to do this?! Look for VDATA?\n",
    "        # just save as DataArray for now, without coordinate variables...\n",
    "        dims = [sds.dim(i).info()[0] for i in range(len(sds.dimensions()))]\n",
    "\n",
    "        da_dict[dname] = xr.DataArray(d, dims=dims, attrs=sds.attributes(), name=dname)\n",
    "\n",
    "        # Close this dataset\n",
    "        sds.endaccess()\n",
    "\n",
    "    # Close file\n",
    "    sd.end()\n",
    "    \n",
    "    # ...now read VDATA...\n",
    "    hdf = HDF(filename)\n",
    "    vs = hdf.vstart()\n",
    "    if variables is None: \n",
    "        data_vars, *__ = zip(*vs.vdatainfo())\n",
    "    else:\n",
    "        data_vars = variables\n",
    "    for vname in data_vars:\n",
    "        \n",
    "        if vname in drop_variables: continue\n",
    "        if vname not in [v[0] for v in vs.vdatainfo()]: continue\n",
    "            \n",
    "        # attach vdata\n",
    "        vd = vs.attach(vname)\n",
    "\n",
    "        # get vdata info\n",
    "        nrec, mode, fields, *__ = vd.inquire()\n",
    "        if nrec == 0:\n",
    "            vd.detach()\n",
    "            continue\n",
    "\n",
    "        # read data\n",
    "        d = np.array(vd[:]).squeeze()\n",
    "\n",
    "        # make sure not to overwrite coordinate variables\n",
    "        if all([vname not in da.dims for v, da in da_dict.items()]):\n",
    "            da_dict[vname] = xr.DataArray(d)\n",
    "\n",
    "        vd.detach()\n",
    "\n",
    "    # clean up\n",
    "    vs.end()\n",
    "\n",
    "    # HDF files do not always close cleanly, so close manually\n",
    "    hdf.close()\n",
    "    \n",
    "    return xr.Dataset(da_dict)\n",
    "    \n",
    "        \n",
    "def get_geoprof_time(ds, return_datetime=False):\n",
    "    \"\"\"\n",
    "    Read time stamp and return seconds since Epoch\n",
    "    \"\"\"\n",
    "\n",
    "    # read data\n",
    "    profile_sec = ds['Profile_time']\n",
    "    start_tai = ds['TAI_start']\n",
    "\n",
    "    # TAI time for each profile\n",
    "    time_tai = (profile_sec + start_tai)  # seconds since 00:00:00 Jan 1\n",
    "\n",
    "    # get epoch for TAI start of 00:00:00 Jan 1\n",
    "    tai_base = calendar.timegm((1993, 1, 1, 0, 0, 0))\n",
    "\n",
    "    # get epoch time as a datetime\n",
    "    epoch = time_tai + tai_base\n",
    "    \n",
    "    # get array of datetime objects\n",
    "    dt = np.array([datetime.datetime.utcfromtimestamp(t) for t in epoch.values])\n",
    "    \n",
    "    # return xarray DataArray\n",
    "    if return_datetime:\n",
    "        return dt\n",
    "    else:\n",
    "        return xr.DataArray(dt, dims=profile_sec.dims, coords=profile_sec.coords, name='time')\n",
    "\n"
   ]
  },
  {
   "cell_type": "code",
   "execution_count": 4,
   "metadata": {},
   "outputs": [],
   "source": [
    "ds = open_dataset_hdf(files[products[0]][0], drop_variables=('EC_height'))"
   ]
  },
  {
   "cell_type": "code",
   "execution_count": 5,
   "metadata": {},
   "outputs": [
    {
     "name": "stdout",
     "output_type": "stream",
     "text": [
      "<xarray.Dataset>\n",
      "Dimensions:                          (Nbin:2B-CWC-RVOD: 125, Nray:2B-CWC-RVOD: 37081, dim_0: 37081)\n",
      "Dimensions without coordinates: Nbin:2B-CWC-RVOD, Nray:2B-CWC-RVOD, dim_0\n",
      "Data variables:\n",
      "    Height                           (Nray:2B-CWC-RVOD, Nbin:2B-CWC-RVOD) float64 ...\n",
      "    Liq_Water_Content                (Nray:2B-CWC-RVOD, Nbin:2B-CWC-RVOD) float32 ...\n",
      "    Liq_Water_Content_Uncert         (Nray:2B-CWC-RVOD, Nbin:2B-CWC-RVOD) float32 ...\n",
      "    Cloud_Liq_Water_Content          (Nray:2B-CWC-RVOD, Nbin:2B-CWC-RVOD) float32 ...\n",
      "    Precip_Liq_Water_Content         (Nray:2B-CWC-RVOD, Nbin:2B-CWC-RVOD) float32 ...\n",
      "    Liq_Geom_Mean_Radius             (Nray:2B-CWC-RVOD, Nbin:2B-CWC-RVOD) float32 ...\n",
      "    Liq_Geom_Mean_Radius_Uncert      (Nray:2B-CWC-RVOD, Nbin:2B-CWC-RVOD) float32 ...\n",
      "    Liq_Number_Concentration         (Nray:2B-CWC-RVOD, Nbin:2B-CWC-RVOD) float32 ...\n",
      "    Liq_Number_Concentration_Uncert  (Nray:2B-CWC-RVOD, Nbin:2B-CWC-RVOD) float32 ...\n",
      "    Ice_Water_Content                (Nray:2B-CWC-RVOD, Nbin:2B-CWC-RVOD) float32 ...\n",
      "    Ice_Water_Content_Uncert         (Nray:2B-CWC-RVOD, Nbin:2B-CWC-RVOD) float32 ...\n",
      "    Phase                            (Nray:2B-CWC-RVOD, Nbin:2B-CWC-RVOD) float64 ...\n",
      "    Radar_Reflectivity_Fwd           (Nray:2B-CWC-RVOD, Nbin:2B-CWC-RVOD) float32 ...\n",
      "    Data_quality                     (dim_0) int64 0 0 0 0 0 0 0 ... 0 0 0 0 0 0\n",
      "    Data_status                      (dim_0) int64 2100 2100 2100 ... 4148 4148\n",
      "    RayStatus_validity               (dim_0) int64 0 0 0 0 0 0 0 ... 0 0 0 0 0 0\n",
      "    Data_targetID                    (dim_0) int64 16 16 16 16 ... 16 16 16 16\n",
      "    Navigation_land_sea_flag         (dim_0) int64 1 1 1 1 1 1 1 ... 2 2 2 2 2 2\n",
      "    DEM_elevation                    (dim_0) int64 519 518 524 ... -9999 -9999\n",
      "    Latitude                         (dim_0) float64 -0.004093 ... 0.007951\n",
      "    Longitude                        (dim_0) float64 13.04 13.04 ... -11.68\n",
      "    Pitch_offset                     float64 0.16\n",
      "    Profile_time                     (dim_0) float64 0.0 0.16 ... 5.933e+03\n",
      "    Range_to_intercept               (dim_0) float64 705.7 705.7 ... 705.6 705.6\n",
      "    Roll_offset                      float64 0.0\n",
      "    TAI_start                        float64 4.418e+08\n",
      "    UTC_start                        float64 3.102e+03\n",
      "    Vertical_binsize                 float64 239.8\n",
      "    Liq_Water_Path                   (dim_0) float64 -9.999e+03 ... -9.999e+03\n",
      "    Liq_Water_Path_Uncert            (dim_0) float64 -9.999e+03 ... -9.999e+03\n",
      "    Cloud_Liq_Water_Path             (dim_0) float64 -9.999e+03 ... -9.999e+03\n",
      "    Precip_Liq_Water_Path            (dim_0) float64 -9.999e+03 ... -9.999e+03\n",
      "    Ice_Water_Path                   (dim_0) float64 -9.999e+03 ... -9.999e+03\n",
      "    Ice_Water_Path_Uncert            (dim_0) float64 -9.999e+03 ... -9.999e+03\n",
      "    PIA_Fwd                          (dim_0) float64 -9.999e+03 ... -9.999e+03\n",
      "    Error_Flag                       (dim_0) int64 9 9 9 9 9 9 9 ... 9 9 9 9 9 9\n",
      "    Warning_Flag                     (dim_0) int64 0 0 0 0 0 0 0 ... 0 0 0 0 0 0\n"
     ]
    }
   ],
   "source": [
    "print(ds)"
   ]
  },
  {
   "cell_type": "code",
   "execution_count": 6,
   "metadata": {},
   "outputs": [
    {
     "data": {
      "text/plain": [
       "((52,),\n",
       " array([    0,   500,  1000,  1500,  2000,  2500,  3000,  3500,  4000,\n",
       "         4500,  5000,  5500,  6000,  6500,  7000,  7500,  8000,  8500,\n",
       "         9000,  9500, 10000, 10500, 11000, 11500, 12000, 12500, 13000,\n",
       "        13500, 14000, 14500, 15000, 15500, 16000, 16500, 17000, 17500,\n",
       "        18000, 18500, 19000, 19500, 20000, 20500, 21000, 21500, 22000,\n",
       "        22500, 23000, 23500, 24000, 24500, 25000, 25500]))"
      ]
     },
     "execution_count": 6,
     "metadata": {},
     "output_type": "execute_result"
    }
   ],
   "source": [
    "zb = np.arange(0, 26000, 500)\n",
    "zb.shape, zb"
   ]
  },
  {
   "cell_type": "code",
   "execution_count": 7,
   "metadata": {},
   "outputs": [
    {
     "data": {
      "text/plain": [
       "(-180.0, 180.0)"
      ]
     },
     "execution_count": 7,
     "metadata": {},
     "output_type": "execute_result"
    }
   ],
   "source": [
    "#xb = np.concatenate([grid_ds.lon_bnds[:,0], [grid_ds.lon_bnds[-1,-1]]])\n",
    "#yb = np.concatenate([grid_ds.lat_bnds[:,0], [grid_ds.lat_bnds[-1,-1]]])\n",
    "# Fix bounds to go from -180 to 180 instead of 0 to 360\n",
    "#xb = np.where(xb <= 180, xb, xb - 360)\n",
    "xb = np.linspace(-180, 180, 361)\n",
    "yb = np.linspace(-90, 90, 181)\n",
    "xb.min(),xb.max()"
   ]
  },
  {
   "cell_type": "code",
   "execution_count": 8,
   "metadata": {},
   "outputs": [],
   "source": [
    "# Aggregate onto regular grid; compute sums and counts, and then return a mean if counts is large enough\n",
    "import numba as nb\n",
    "# This function is compact and flexible, but cannot be accelerated with numba, so wrap below\n",
    "#@nb.jit(nopython=True)\n",
    "def gridded_sum(d, coords, bounds): #x, y, z, xb, yb, zb):\n",
    "        \n",
    "    # Compute grid centers, since we are passing grid bounds\n",
    "    centers = [(b[:-1] + b[1:]) / 2.0 for b in bounds]\n",
    "    \n",
    "    # Initialize sums and counts\n",
    "    new_shape = [len(b) - 1 for b in bounds]\n",
    "    dsum = np.zeros(new_shape)\n",
    "    dcnt = np.zeros(new_shape)\n",
    "    \n",
    "    # Loop over points, aggregate appropriate sums\n",
    "    for idx in range(len(d)):\n",
    "        \n",
    "        if np.isfinite(d[idx]):\n",
    "            # Find nearest point on grid\n",
    "            index = tuple([np.argmin((x[idx] - xc)**2.0) for x, xc in zip(coords, centers)])# ix,iy,iz])\n",
    "            dsum[index] = dsum[index] + d[idx]\n",
    "            dcnt[index] = dcnt[index] + 1\n",
    "    \n",
    "    return dsum, dcnt\n",
    "\n",
    "def gridded_sum_nn(d, coords, centers):\n",
    "    if len(coords) == 2:\n",
    "        return gridded_sum2d(d, *coords, *centers)\n",
    "    elif len(coords) == 3:\n",
    "        return gridded_sum3d(d, *coords, *centers)\n",
    "\n",
    "@nb.jit(nopython=True)\n",
    "def gridded_sum2d(d, x, y, xc, yc):\n",
    "      \n",
    "    # Initialize sums and counts\n",
    "    new_shape = (len(xc), len(yc))\n",
    "    dsum = np.zeros(new_shape)\n",
    "    dcnt = np.zeros(new_shape)\n",
    "    \n",
    "    # Loop over points, aggregate appropriate sums\n",
    "    for idx in range(len(d)):\n",
    "        \n",
    "        if np.isfinite(d[idx]):\n",
    "            # Find nearest point on grid\n",
    "            ix, iy = [np.argmin((coord[idx] - center)**2.0) for coord, center in zip((x, y), (xc, yc))]\n",
    "            dsum[ix,iy] = dsum[ix,iy] + d[idx]\n",
    "            dcnt[ix,iy] = dcnt[ix,iy] + 1\n",
    "    \n",
    "    return dsum, dcnt\n",
    "\n",
    "@nb.jit(nopython=True)\n",
    "def gridded_sum3d(d, x, y, z, xc, yc, zc):\n",
    "    \n",
    "    # Initialize sums and counts\n",
    "    new_shape = (len(xc), len(yc), len(zc))\n",
    "    dsum = np.zeros(new_shape)\n",
    "    dcnt = np.zeros(new_shape)\n",
    "    \n",
    "    # Loop over points, aggregate appropriate sums\n",
    "    for idx in range(len(d)):\n",
    "        \n",
    "        if np.isfinite(d[idx]) and d[idx] >= 0:\n",
    "            # Find nearest point on grid\n",
    "            ix, iy, iz = [np.argmin((coord[idx] - center)**2.0) for coord, center in zip((x, y, z), (xc, yc, zc))]\n",
    "            dsum[ix,iy,iz] = dsum[ix,iy,iz] + d[idx]\n",
    "            dcnt[ix,iy,iz] = dcnt[ix,iy,iz] + 1\n",
    "    \n",
    "    return dsum, dcnt"
   ]
  },
  {
   "cell_type": "code",
   "execution_count": 9,
   "metadata": {},
   "outputs": [],
   "source": [
    "# Compute grid centers\n",
    "xgrd = (xb[:-1] + xb[1:]) / 2.0\n",
    "ygrd = (yb[:-1] + yb[1:]) / 2.0\n",
    "zgrd = (zb[:-1] + zb[1:]) / 2.0"
   ]
  },
  {
   "cell_type": "code",
   "execution_count": 10,
   "metadata": {},
   "outputs": [],
   "source": [
    "# A test variable from the dataset\n",
    "v = 'Ice_Water_Content'\n",
    "\n",
    "# Broadcast lat and lon coords to full height grid, since height may differ from location\n",
    "# to location, and we want to produce a gridded dataset we can later create climatologies from\n",
    "x = np.broadcast_to(ds.Longitude.values, ds.Height.T.shape).T\n",
    "y = np.broadcast_to(ds.Latitude.values, ds.Height.T.shape).T\n",
    "\n",
    "# Grid the data, summing data values and counts\n",
    "d_sum, d_cnt = gridded_sum_nn(ds[v].values.flatten(), [x.flatten(), y.flatten(), ds.Height.values.flatten()], [xgrd, ygrd, zgrd])"
   ]
  },
  {
   "cell_type": "code",
   "execution_count": 11,
   "metadata": {},
   "outputs": [
    {
     "name": "stderr",
     "output_type": "stream",
     "text": [
      "<ipython-input-11-915e1da7893a>:2: RuntimeWarning: invalid value encountered in true_divide\n",
      "  d_sum_test = np.ma.masked_where(d_cnt == 0, d_sum/d_cnt)\n",
      "<ipython-input-11-915e1da7893a>:3: MatplotlibDeprecationWarning: shading='flat' when X and Y have the same dimensions as C is deprecated since 3.3.  Either specify the corners of the quadrilaterals with X and Y, or pass shading='auto', 'nearest' or 'gouraud', or set rcParams['pcolor.shading'].  This will become an error two minor releases later.\n",
      "  pl = ax.pcolormesh(xgrd, ygrd, d_sum_test[:,:,:].sum(axis=-1).T)\n"
     ]
    },
    {
     "data": {
      "image/png": "[encoded data removed]",
      "text/plain": [
       "<Figure size 432x288 with 1 Axes>"
      ]
     },
     "metadata": {
      "needs_background": "light"
     },
     "output_type": "display_data"
    }
   ],
   "source": [
    "fig, ax = plt.subplots(1, 1)\n",
    "d_sum_test = np.ma.masked_where(d_cnt == 0, d_sum/d_cnt)\n",
    "pl = ax.pcolormesh(xgrd, ygrd, d_sum_test[:,:,:].sum(axis=-1).T)\n",
    "#pl = ax.scatter(ds.Longitude, ds.Latitude, c=data.sum(axis=-1))\n",
    "#ax.set_xlim(0, 50)\n",
    "#ax.set_ylim(-40, -20)"
   ]
  },
  {
   "cell_type": "code",
   "execution_count": 12,
   "metadata": {},
   "outputs": [
    {
     "data": {
      "image/png": "[encoded data removed]",
      "text/plain": [
       "<Figure size 432x288 with 1 Axes>"
      ]
     },
     "metadata": {
      "needs_background": "light"
     },
     "output_type": "display_data"
    }
   ],
   "source": [
    "fig, ax = plt.subplots(1, 1)\n",
    "pl = ax.scatter(ds.Longitude, ds.Latitude, c=(ds[v].sum(axis=-1)>0), )"
   ]
  },
  {
   "cell_type": "code",
   "execution_count": 13,
   "metadata": {},
   "outputs": [],
   "source": [
    "pgrd = np.array([ 200.,  300.,  400.,  500.,  600.,  700.,  800.,  850.,  925., 1000.], dtype=np.float64)"
   ]
  },
  {
   "cell_type": "code",
   "execution_count": 14,
   "metadata": {
    "jupyter": {
     "source_hidden": true
    }
   },
   "outputs": [],
   "source": [
    "def to_netcdf_file(outputfile, coords_in, monthly_sums, monthly_cnts, attrs):\n",
    "    months, xgrd, ygrd, zgrd = coords_in\n",
    "    \n",
    "    # Save counts (and means) to a netcdf file\n",
    "    coords = {\n",
    "        'month': xr.DataArray(months, dims=('month'), name='month'),\n",
    "        'lon': xr.DataArray(xgrd, dims=('lon'), name='lon', attrs={'long_name': 'Longitude', 'units': 'degrees east'}),\n",
    "        'lat': xr.DataArray(ygrd, dims=('lat'), name='lat', attrs={'long_name': 'Latitude', 'units': 'degrees north'}),\n",
    "        #'height': xr.DataArray(zgrd, dims=('height'), name='height', attrs={'long_name': 'Height', 'units': 'm'}),\n",
    "        'plev': xr.DataArray(zgrd, dims=('plev'), name='plev', attrs={'long_name': 'Pressure', 'units': 'hPa'})\n",
    "    }\n",
    "    data_arrays = {}\n",
    "    for v in monthly_sums.keys():\n",
    "        if len(monthly_sums[v].shape) == 3:\n",
    "            dims = ('month', 'lon', 'lat')\n",
    "        elif len(monthly_sums[v].shape) == 4:\n",
    "            dims = ('month', 'lon', 'lat', 'plev')\n",
    "        else:\n",
    "            raise RuntimeError('Bad dims')\n",
    "        # Save raw sums data\n",
    "        data_arrays[v + '_sums'] = xr.DataArray(\n",
    "            monthly_sums[v], name=v+'_sums', dims=dims, coords={c: coords[c] for c in dims},\n",
    "            attrs={'long_name': f'{v} sum'},\n",
    "        )\n",
    "        # Save valid counts for each lat-lon-height bin\n",
    "        data_arrays[v + '_counts'] = xr.DataArray(\n",
    "            monthly_cnts[v], name=v+'_counts', dims=dims, coords={c: coords[c] for c in dims},\n",
    "            attrs={'long_name': f'{v} valid counts'},\n",
    "        )\n",
    "\n",
    "    # Merge DataArrays into a Dataset and write to file\n",
    "    ds_out = xr.Dataset(data_arrays)\n",
    "    ds_out.to_netcdf(outputfile)\n",
    "    ds_out.close()"
   ]
  },
  {
   "cell_type": "code",
   "execution_count": 15,
   "metadata": {},
   "outputs": [],
   "source": [
    "# Get list of files for which we have both CS and aux data\n",
    "cld_files = []\n",
    "aux_files = []\n",
    "missing_files = []\n",
    "for f in files[products[0]]:\n",
    "    f_aux = f.replace(products[0], products[1]).replace(versions[0], versions[1])\n",
    "    if os.path.exists(f_aux):\n",
    "        cld_files.append(f)\n",
    "        aux_files.append(f_aux)\n",
    "    else:\n",
    "        missing_files.append(f)\n"
   ]
  },
  {
   "cell_type": "code",
   "execution_count": 18,
   "metadata": {},
   "outputs": [
    {
     "name": "stdout",
     "output_type": "stream",
     "text": [
      "35741 35740 35740\n",
      "/global/cfs/cdirs/e3sm/bhillma/obs_datasets/cloudsat/2B-CWC-RVOD/2017/2017339141057_61739_CS_2B-CWC-RVOD_GRANULE_P1_R05_E06_F00.hdf /global/cfs/cdirs/e3sm/bhillma/obs_datasets/cloudsat/ECMWF-AUX/2017/2017339141057_61739_CS_ECMWF-AUX_GRANULE_P_R05_E06_F00.hdf\n"
     ]
    }
   ],
   "source": [
    "print(len(files[products[0]]), len(cld_files), len(aux_files))\n",
    "print(cld_files[-1], aux_files[-1])"
   ]
  },
  {
   "cell_type": "code",
   "execution_count": 38,
   "metadata": {},
   "outputs": [],
   "source": [
    "def process_files(cld_files, aux_files, data_vars, xgrd, ygrd, pgrd):\n",
    "    \n",
    "    bad_files = []\n",
    "    processed_files = []\n",
    "    \n",
    "    # Shapes\n",
    "    nx = len(xgrd)\n",
    "    ny = len(ygrd)\n",
    "    nz = len(pgrd)\n",
    "    shape2d = (nx, ny)\n",
    "    shape3d = (nx, ny, nz)\n",
    "    \n",
    "    # Initialize counts\n",
    "    monthly_sums = {v: np.zeros([12, *shape3d]) for v in data_vars}\n",
    "    monthly_cnts = {v: np.zeros([12, *shape3d]) for v in data_vars}\n",
    "    \n",
    "    # Loop over all files and aggregate sums and counts for each month\n",
    "    for ifile, (f, f_aux) in enumerate(zip(cld_files, aux_files)):\n",
    "        update_progress(ifile, len(cld_files))\n",
    "\n",
    "        # If continuing where we left off, maybe already proccessed this one\n",
    "        if f in processed_files: continue\n",
    "\n",
    "        # Load data\n",
    "        ds = open_dataset_hdf(f, variables=(*data_vars, 'Latitude', 'Longitude', 'Height', 'Profile_time', 'TAI_start'))\n",
    "\n",
    "        # Load aux data\n",
    "        ds_aux = open_dataset_hdf(f_aux, variables=('Pressure', 'Latitude', 'Longitude'), drop_variables=('EC_height'))\n",
    "        p = ds_aux.Pressure.values.astype(np.float64) / 100.\n",
    "\n",
    "        # Broadcast lat and lon coords to full height grid, since height may differ from location\n",
    "        # to location, and we want to produce a gridded dataset we can later create climatologies from\n",
    "        x = np.broadcast_to(ds.Longitude.values, p.T.shape).T\n",
    "        y = np.broadcast_to(ds.Latitude.values, p.T.shape).T\n",
    "\n",
    "        # Get month orbit falls into\n",
    "        t = get_geoprof_time(ds)\n",
    "        imonth = t.to_pandas()[0].month - 1\n",
    "\n",
    "        # Grid the data, summing data values and counts\n",
    "        for v in data_vars:\n",
    "            if len(ds[v].shape) == 1:\n",
    "                coords = [x.flatten(), y.flatten()]\n",
    "                centers = [xgrd, ygrd]\n",
    "            elif len(ds[v].shape) == 2:\n",
    "                coords = [x.flatten(), y.flatten(), p.flatten()]\n",
    "                centers = [xgrd, ygrd, pgrd]\n",
    "            else:\n",
    "                raise RuntimeError(\"Bad number of dimensions\")\n",
    "\n",
    "            sums, cnts = gridded_sum_nn(\n",
    "                ds[v].values.flatten(), coords, centers\n",
    "            )\n",
    "\n",
    "            # Make sure we do not sum nans\n",
    "            monthly_sums[v][imonth,...] = monthly_sums[v][imonth,...] + np.where(cnts > 0, sums, 0)\n",
    "            monthly_cnts[v][imonth,...] = monthly_cnts[v][imonth,...] + np.where(cnts > 0, cnts, 0)\n",
    "\n",
    "        ds.close()\n",
    "        ds_aux.close()\n",
    "\n",
    "        # Append to list of processed files\n",
    "        processed_files.append(f)\n",
    "\n",
    "        # Save to intermediate file\n",
    "        with open(tmpfile_name, 'wb') as tmpfile:\n",
    "            pickle.Pickler(tmpfile).dump([processed_files, bad_files, monthly_sums, monthly_cnts])\n",
    "\n",
    "        # Update progress bar\n",
    "        update_progress(ifile+1, len(cld_files))\n",
    "        \n",
    "    return monthly_sums, monthly_cnts, processed_files, bad_files"
   ]
  },
  {
   "cell_type": "code",
   "execution_count": null,
   "metadata": {},
   "outputs": [
    {
     "name": "stdout",
     "output_type": "stream",
     "text": [
      "Percent: [####------] 1912 of 4797 (39.86%)"
     ]
    }
   ],
   "source": [
    "from e3smplot.utils import update_progress\n",
    "import os.path\n",
    "import pickle\n",
    "\n",
    "output_root = '/global/cfs/cdirs/e3sm/bhillma/obs_datasets/cloudsat'\n",
    "\n",
    "# Initialize counts for each month\n",
    "data_vars = [\n",
    "    'Cloud_Liq_Water_Content', \n",
    "    'Ice_Water_Content', \n",
    "    'Liq_Water_Content', \n",
    "]\n",
    "years = range(2007, 2020)\n",
    "months = range(1, 13)\n",
    "\n",
    "for year in years:\n",
    "    \n",
    "    # Find files for this year\n",
    "    files = glob(f'{output_root}/{products[0]}/{year}/*.hdf')\n",
    "    \n",
    "    # Get list of files for which we have both CS and aux data\n",
    "    cld_files = []\n",
    "    aux_files = []\n",
    "    missing_files = []\n",
    "    for f in files:\n",
    "        f_aux = f.replace(products[0], products[1]).replace(versions[0], versions[1])\n",
    "        if os.path.exists(f_aux):\n",
    "            cld_files.append(f)\n",
    "            aux_files.append(f_aux)\n",
    "        else:\n",
    "            missing_files.append(f)\n",
    "\n",
    "    # Process files for this year\n",
    "    monthly_sums, monthly_cnts = process_files(cld_files, aux_files, data_vars, xgrd, ygrd, pgrd)\n",
    "    \n",
    "    # Save to netCDF file\n",
    "    f_out = f'{output_root}/{products[0]}_{year}_monthly_counts.nc'\n",
    "    to_netcdf_file(f_out, [months, xgrd, ygrd, pgrd], monthly_sums, monthly_cnts, ds[v].attrs)"
   ]
  },
  {
   "cell_type": "code",
   "execution_count": 24,
   "metadata": {},
   "outputs": [
    {
     "data": {
      "text/plain": [
       "'/global/cfs/cdirs/e3sm/bhillma/obs_datasets/cloudsat/2B-CWC-RVOD/2017/2017338200314_61728_CS_2B-CWC-RVOD_GRANULE_P1_R05_E06_F00.hdf'"
      ]
     },
     "execution_count": 24,
     "metadata": {},
     "output_type": "execute_result"
    }
   ],
   "source": [
    "processed_files[-1]"
   ]
  },
  {
   "cell_type": "code",
   "execution_count": 30,
   "metadata": {},
   "outputs": [],
   "source": [
    "cld_files = []\n",
    "aux_files = []\n",
    "missing_files = []\n",
    "for f in files[products[0]]:\n",
    "    f_aux = f.replace(products[0], products[1]).replace(versions[0], versions[1])\n",
    "    if os.path.exists(f_aux):\n",
    "        cld_files.append(f)\n",
    "        aux_files.append(f_aux)\n",
    "    else:\n",
    "        missing_files.append(f)"
   ]
  },
  {
   "cell_type": "code",
   "execution_count": 31,
   "metadata": {},
   "outputs": [
    {
     "data": {
      "text/plain": [
       "(5332, 5332, 30409)"
      ]
     },
     "execution_count": 31,
     "metadata": {},
     "output_type": "execute_result"
    }
   ],
   "source": [
    "len(cld_files), len(aux_files), len(missing_files)"
   ]
  },
  {
   "cell_type": "code",
   "execution_count": 29,
   "metadata": {},
   "outputs": [
    {
     "data": {
      "text/plain": [
       "(5209, 5209, 30532)"
      ]
     },
     "execution_count": 29,
     "metadata": {},
     "output_type": "execute_result"
    }
   ],
   "source": [
    "len(cld_files), len(aux_files), len(missing_files)"
   ]
  },
  {
   "cell_type": "code",
   "execution_count": 26,
   "metadata": {},
   "outputs": [],
   "source": [
    "v = 'Cloud_Liq_Water_Content'\n",
    "da = xr.DataArray(monthly_sums[v], name=v)\n",
    "ds1 = xr.Dataset({v: da})\n",
    "ds1.to_netcdf('test.nc')\n",
    "ds1.close()"
   ]
  },
  {
   "cell_type": "code",
   "execution_count": 27,
   "metadata": {},
   "outputs": [
    {
     "name": "stdout",
     "output_type": "stream",
     "text": [
      "<xarray.Dataset>\n",
      "Dimensions:                  (dim_0: 12, dim_1: 360, dim_2: 180, dim_3: 10)\n",
      "Dimensions without coordinates: dim_0, dim_1, dim_2, dim_3\n",
      "Data variables:\n",
      "    Cloud_Liq_Water_Content  (dim_0, dim_1, dim_2, dim_3) float64 ...\n"
     ]
    }
   ],
   "source": [
    "ds1 = xr.open_dataset('test.nc')\n",
    "print(ds1)"
   ]
  },
  {
   "cell_type": "code",
   "execution_count": 29,
   "metadata": {},
   "outputs": [
    {
     "name": "stdout",
     "output_type": "stream",
     "text": [
      "<xarray.Dataset>\n",
      "Dimensions:                  (dim_0: 12, dim_1: 360, dim_2: 180, dim_3: 10)\n",
      "Dimensions without coordinates: dim_0, dim_1, dim_2, dim_3\n",
      "Data variables:\n",
      "    Cloud_Liq_Water_Content  (dim_0, dim_1, dim_2, dim_3) float64 ...\n",
      "0.0 0.0\n",
      "0.0010985081702724203 0.0010985081702724203\n",
      "0.008338624800884986 0.008338624800884986\n",
      "0.02622724637610563 0.02622724637610563\n",
      "0.02704373256467818 0.02704373256467818\n",
      "0.03740620635039704 0.03740620635039704\n",
      "0.043407814384408994 0.043407814384408994\n",
      "0.052140367864922155 0.052140367864922155\n",
      "0.051808323729561304 0.051808323729561304\n",
      "0.001300254601138029 0.001300254601138029\n"
     ]
    }
   ],
   "source": [
    "ds1 = xr.open_dataset('test.nc')\n",
    "print(ds1)\n",
    "da1 = ds1[v]\n",
    "ds_counts = xr.open_dataset(f_out)\n",
    "\n",
    "d_sum = ds_counts[v+'_sums']\n",
    "for ilev in range(len(d_sum.plev)):\n",
    "    print(np.nanmax(da1[...,ilev]), np.nanmax(d_sum[...,ilev].values))"
   ]
  },
  {
   "cell_type": "code",
   "execution_count": 30,
   "metadata": {},
   "outputs": [
    {
     "name": "stdout",
     "output_type": "stream",
     "text": [
      "0.0 0.0\n",
      "0.0010985081702724203 0.0010985081702724203\n",
      "0.008338624800884986 0.008338624800884986\n",
      "0.02622724637610563 0.02622724637610563\n",
      "0.02704373256467818 0.02704373256467818\n",
      "0.03740620635039704 0.03740620635039704\n",
      "0.043407814384408994 0.043407814384408994\n",
      "0.052140367864922155 0.052140367864922155\n",
      "0.051808323729561304 0.051808323729561304\n",
      "0.001300254601138029 0.001300254601138029\n",
      "0.6108035241447851 0.6108035241447851\n",
      "0.6323814124792193 0.6323814124792193\n",
      "0.26516597452564383 0.26516597452564383\n",
      "0.16651041780755804 0.16651041780755804\n",
      "0.14055096876165862 0.14055096876165862\n",
      "0.08423463639144302 0.08423463639144302\n",
      "0.04476806196362304 0.04476806196362304\n",
      "0.030387201613962134 0.030387201613962134\n",
      "0.029313973614705446 0.029313973614705446\n",
      "0.0 0.0\n",
      "0.0 0.0\n",
      "0.0008740040709005236 0.0008740040709005236\n",
      "0.01337189188948014 0.01337189188948014\n",
      "0.022480393459318293 0.022480393459318293\n",
      "0.06432758746973377 0.06432758746973377\n",
      "0.0745207292034138 0.0745207292034138\n",
      "0.0730224950802949 0.0730224950802949\n",
      "0.09921447258284388 0.09921447258284388\n",
      "0.232365817646496 0.232365817646496\n",
      "0.027018848777515814 0.027018848777515814\n"
     ]
    }
   ],
   "source": [
    "vnames = (\n",
    "    'Cloud_Liq_Water_Content',\n",
    "    'Ice_Water_Content', \n",
    "    'Liq_Water_Content', \n",
    ")\n",
    "ds_counts = xr.open_dataset(f_out)\n",
    "for v in vnames:\n",
    "    d_sum = ds_counts[v+'_sums']\n",
    "    d_cnt = ds_counts[v+'_counts']\n",
    "    for ilev in range(len(d_sum.plev)):\n",
    "        print(np.nanmax(monthly_sums[v][...,ilev]), np.nanmax(d_sum[...,ilev].values))"
   ]
  },
  {
   "cell_type": "code",
   "execution_count": 33,
   "metadata": {},
   "outputs": [
    {
     "data": {
      "image/png": "[encoded data removed]",
      "text/plain": [
       "<Figure size 432x288 with 1 Axes>"
      ]
     },
     "metadata": {
      "needs_background": "light"
     },
     "output_type": "display_data"
    }
   ],
   "source": [
    "fig, ax = plt.subplots(1, 1)\n",
    "vnames = (\n",
    "    'Cloud_Liq_Water_Content',\n",
    "    'Ice_Water_Content', \n",
    "    'Liq_Water_Content', \n",
    ")\n",
    "ds_counts = xr.open_dataset(f_out)\n",
    "for v in vnames:\n",
    "    d_sum = ds_counts[v+'_sums']\n",
    "    d_cnt = ds_counts[v+'_counts']\n",
    "    \n",
    "    # Sum over tropics\n",
    "    d_sum = d_sum.where(d_sum.lat > -30).where(d_sum.lat < 30).sum(dim=('month', 'lat', 'lon'), keep_attrs=True)\n",
    "    d_cnt = d_cnt.where(d_cnt.lat > -30).where(d_cnt.lat < 30).sum(dim=('month', 'lat', 'lon'), keep_attrs=True)\n",
    "    #d_sum = np.nansum(d_sum, axis=(0,1,2))#d_sum.sum(dim=('month', 'lat', 'lon'))\n",
    "    #d_cnt = np.nansum(d_cnt, axis=(0,1,2))#d_cnt.sum(dim=('month', 'lat', 'lon'))\n",
    "\n",
    "    # Compute mean\n",
    "    d = 1.0 * d_sum / d_cnt\n",
    "\n",
    "    # Plot profile\n",
    "    pl = ax.plot(d, d.plev)"
   ]
  },
  {
   "cell_type": "code",
   "execution_count": 22,
   "metadata": {},
   "outputs": [
    {
     "name": "stderr",
     "output_type": "stream",
     "text": [
      "<ipython-input-22-46dbcba89fea>:19: RuntimeWarning: invalid value encountered in true_divide\n",
      "  d = np.where(d_cnt > 0, d_sum / d_cnt, np.nan)\n",
      "<ipython-input-22-46dbcba89fea>:19: RuntimeWarning: invalid value encountered in true_divide\n",
      "  d = np.where(d_cnt > 0, d_sum / d_cnt, np.nan)\n"
     ]
    },
    {
     "data": {
      "text/plain": [
       "<matplotlib.legend.Legend at 0x2aaad9089cd0>"
      ]
     },
     "execution_count": 22,
     "metadata": {},
     "output_type": "execute_result"
    },
    {
     "data": {
      "image/png": "[encoded data removed]",
      "text/plain": [
       "<Figure size 432x288 with 1 Axes>"
      ]
     },
     "metadata": {
      "needs_background": "light"
     },
     "output_type": "display_data"
    }
   ],
   "source": [
    "fig, ax = plt.subplots(1, 1)\n",
    "vnames = (\n",
    "    'Cloud_Liq_Water_Content',\n",
    "    'Ice_Water_Content', \n",
    "    'Liq_Water_Content', \n",
    ")\n",
    "ds_counts = xr.open_dataset(f_out)\n",
    "for v in vnames:\n",
    "    d_sum = monthly_sums[v]\n",
    "    d_cnt = monthly_cnts[v]\n",
    "    \n",
    "    # Sum over tropics\n",
    "    #d_sum = d_sum.where(d_sum.lat > -30).where(d_sum.lat < 30).sum(dim=('month', 'lat', 'lon'), keep_attrs=True)\n",
    "    #d_cnt = d_cnt.where(d_cnt.lat > -30).where(d_cnt.lat < 30).sum(dim=('month', 'lat', 'lon'), keep_attrs=True)\n",
    "    d_sum = np.nansum(d_sum, axis=(0, 1, 2))\n",
    "    d_cnt = np.nansum(d_cnt, axis=(0, 1, 2))\n",
    "\n",
    "    # Compute mean\n",
    "    d = np.where(d_cnt > 0, d_sum / d_cnt, np.nan)\n",
    "    \n",
    "    # Plot profile\n",
    "    pl = ax.plot(d, pgrd, label=v)\n",
    "    \n",
    "ax.set_ylim(ax.get_ylim()[::-1])\n",
    "ax.legend()"
   ]
  },
  {
   "cell_type": "code",
   "execution_count": 47,
   "metadata": {},
   "outputs": [
    {
     "name": "stdout",
     "output_type": "stream",
     "text": [
      "Cloud_Liq_Water_Content 0\n",
      "Cloud_Liq_Water_Path 127\n",
      "Ice_Water_Content 0\n",
      "Ice_Water_Path 127\n",
      "Liq_Water_Content 0\n",
      "Liq_Water_Path 127\n"
     ]
    }
   ],
   "source": [
    "for v in monthly_sums.keys():\n",
    "    print(v, monthly_sums[v].max())"
   ]
  },
  {
   "cell_type": "code",
   "execution_count": 117,
   "metadata": {},
   "outputs": [],
   "source": [
    "ds = open_dataset_hdf(files[products[1]][0], variables=('Pressure',))"
   ]
  },
  {
   "cell_type": "code",
   "execution_count": 120,
   "metadata": {},
   "outputs": [
    {
     "name": "stdout",
     "output_type": "stream",
     "text": [
      "103863.15\n"
     ]
    }
   ],
   "source": [
    "print(ds.Pressure.max().values)"
   ]
  },
  {
   "cell_type": "code",
   "execution_count": null,
   "metadata": {},
   "outputs": [],
   "source": []
  }
 ],
 "metadata": {
  "kernelspec": {
   "display_name": "e3smplot",
   "language": "python",
   "name": "e3smplot"
  },
  "language_info": {
   "codemirror_mode": {
    "name": "ipython",
    "version": 3
   },
   "file_extension": ".py",
   "mimetype": "text/x-python",
   "name": "python",
   "nbconvert_exporter": "python",
   "pygments_lexer": "ipython3",
   "version": "3.8.6"
  }
 },
 "nbformat": 4,
 "nbformat_minor": 4
}
